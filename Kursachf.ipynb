{
 "cells": [
  {
   "cell_type": "code",
   "execution_count": 1,
   "metadata": {},
   "outputs": [
    {
     "name": "stderr",
     "output_type": "stream",
     "text": [
      "D:\\Anaconda3\\lib\\site-packages\\sklearn\\cross_validation.py:44: DeprecationWarning: This module was deprecated in version 0.18 in favor of the model_selection module into which all the refactored classes and functions are moved. Also note that the interface of the new CV iterators are different from that of this module. This module will be removed in 0.20.\n",
      "  \"This module will be removed in 0.20.\", DeprecationWarning)\n",
      "D:\\Anaconda3\\lib\\site-packages\\sklearn\\grid_search.py:43: DeprecationWarning: This module was deprecated in version 0.18 in favor of the model_selection module into which all the refactored classes and functions are moved. This module will be removed in 0.20.\n",
      "  DeprecationWarning)\n"
     ]
    }
   ],
   "source": [
    "#%load_ext Cython\n",
    "from __future__ import division\n",
    "import time\n",
    "import multiprocessing\n",
    "import pandas as pd\n",
    "from sklearn import preprocessing as s\n",
    "from sklearn.cross_validation import train_test_split\n",
    "import pandas as pd\n",
    "import numpy as np\n",
    "import matplotlib.pyplot as plt\n",
    "import random\n",
    "from sklearn.metrics import roc_auc_score\n",
    "from sklearn.metrics import roc_curve, auc\n",
    "from sklearn.linear_model import LogisticRegression\n",
    "from sklearn.ensemble import AdaBoostClassifier, GradientBoostingClassifier, RandomForestClassifier\n",
    "from sklearn.neighbors import KNeighborsClassifier\n",
    "from sklearn.cross_validation import cross_val_score\n",
    "from sklearn.grid_search import RandomizedSearchCV\n",
    "from scipy.stats import randint\n",
    "from sklearn import svm, datasets\n",
    "from sklearn.model_selection import GridSearchCV"
   ]
  },
  {
   "cell_type": "code",
   "execution_count": 2,
   "metadata": {
    "collapsed": true
   },
   "outputs": [],
   "source": [
    "def find_required_data(array,min_value,max_value,index_var):\n",
    "       for index, row in array.iterrows():\n",
    "        if row[index_var]>=min_value and row[index_var]<=max_value:\n",
    "            print (index,row[index_var])"
   ]
  },
  {
   "cell_type": "code",
   "execution_count": 3,
   "metadata": {},
   "outputs": [
    {
     "ename": "SyntaxError",
     "evalue": "Missing parentheses in call to 'print' (<ipython-input-3-94d8f95facdf>, line 4)",
     "output_type": "error",
     "traceback": [
      "\u001b[0;36m  File \u001b[0;32m\"<ipython-input-3-94d8f95facdf>\"\u001b[0;36m, line \u001b[0;32m4\u001b[0m\n\u001b[0;31m    print 'Classification Report:\\n'\u001b[0m\n\u001b[0m                                   ^\u001b[0m\n\u001b[0;31mSyntaxError\u001b[0m\u001b[0;31m:\u001b[0m Missing parentheses in call to 'print'\n"
     ]
    }
   ],
   "source": [
    "def plot_confusion_matrix(y_true, y_pred, title = 'Confusion matrix', cmap=plt.cm.Blues):\n",
    "    from sklearn.metrics import classification_report\n",
    "    from sklearn.metrics import confusion_matrix\n",
    "    print 'Classification Report:\\n'\n",
    "    print classification_report(y_true, y_pred)\n",
    "    cm = confusion_matrix(y_true, y_pred)\n",
    "    def plot_confusion_matrix_plot(cm, title = 'Confusion matrix', cmap=plt.cm.Blues):\n",
    "        plt.imshow(cm, interpolation='nearest', cmap=cmap)\n",
    "        plt.title(title)\n",
    "        plt.colorbar()\n",
    "        tick_marks = np.arange(len(y_test.unique()))\n",
    "        plt.xticks(tick_marks, rotation=45)\n",
    "        plt.yticks(tick_marks)\n",
    "        plt.tight_layout()\n",
    "        plt.ylabel('True label')\n",
    "        plt.xlabel('Predicted label')\n",
    "        plt.show()\n",
    "    print '\\n Confusion matrix, without normalization: \\n'\n",
    "    print cm\n",
    "    plot_confusion_matrix_plot(cm=cm)\n",
    "    cm_normalized = cm.astype('float') / cm.sum(axis=1)[:, np.newaxis]\n",
    "    print('\\n Normalized confusion matrix \\n')\n",
    "    print(cm_normalized)\n",
    "    plt.figure()\n",
    "    plot_confusion_matrix_plot(cm_normalized, title='Normalized confusion matrix')"
   ]
  },
  {
   "cell_type": "markdown",
   "metadata": {},
   "source": [
    "# АЛГОРИТМ ДЛЯ УЗОРНЫХ СТРУКТУР"
   ]
  },
  {
   "cell_type": "markdown",
   "metadata": {},
   "source": [
    "Читаем из файла. Заменяем пропуски на средние(возможна корректировка)"
   ]
  },
  {
   "cell_type": "code",
   "execution_count": 6,
   "metadata": {
    "scrolled": true
   },
   "outputs": [
    {
     "data": {
      "text/html": [
       "<div>\n",
       "<table border=\"1\" class=\"dataframe\">\n",
       "  <thead>\n",
       "    <tr style=\"text-align: right;\">\n",
       "      <th></th>\n",
       "      <th>SeriousDlqin2yrs</th>\n",
       "      <th>RevolvingUtilizationOfUnsecuredLines</th>\n",
       "      <th>age</th>\n",
       "      <th>NumberOfTime30-59DaysPastDueNotWorse</th>\n",
       "      <th>DebtRatio</th>\n",
       "      <th>MonthlyIncome</th>\n",
       "      <th>NumberOfOpenCreditLinesAndLoans</th>\n",
       "      <th>NumberOfTimes90DaysLate</th>\n",
       "      <th>NumberRealEstateLoansOrLines</th>\n",
       "      <th>NumberOfTime60-89DaysPastDueNotWorse</th>\n",
       "      <th>NumberOfDependents</th>\n",
       "    </tr>\n",
       "  </thead>\n",
       "  <tbody>\n",
       "    <tr>\n",
       "      <th>0</th>\n",
       "      <td>1</td>\n",
       "      <td>0.766127</td>\n",
       "      <td>45</td>\n",
       "      <td>2</td>\n",
       "      <td>0.802982</td>\n",
       "      <td>9120.000000</td>\n",
       "      <td>13</td>\n",
       "      <td>0</td>\n",
       "      <td>6</td>\n",
       "      <td>0</td>\n",
       "      <td>2.000000</td>\n",
       "    </tr>\n",
       "    <tr>\n",
       "      <th>1</th>\n",
       "      <td>0</td>\n",
       "      <td>0.957151</td>\n",
       "      <td>40</td>\n",
       "      <td>0</td>\n",
       "      <td>0.121876</td>\n",
       "      <td>2600.000000</td>\n",
       "      <td>4</td>\n",
       "      <td>0</td>\n",
       "      <td>0</td>\n",
       "      <td>0</td>\n",
       "      <td>1.000000</td>\n",
       "    </tr>\n",
       "    <tr>\n",
       "      <th>2</th>\n",
       "      <td>0</td>\n",
       "      <td>0.658180</td>\n",
       "      <td>38</td>\n",
       "      <td>1</td>\n",
       "      <td>0.085113</td>\n",
       "      <td>3042.000000</td>\n",
       "      <td>2</td>\n",
       "      <td>1</td>\n",
       "      <td>0</td>\n",
       "      <td>0</td>\n",
       "      <td>0.000000</td>\n",
       "    </tr>\n",
       "    <tr>\n",
       "      <th>3</th>\n",
       "      <td>0</td>\n",
       "      <td>0.233810</td>\n",
       "      <td>30</td>\n",
       "      <td>0</td>\n",
       "      <td>0.036050</td>\n",
       "      <td>3300.000000</td>\n",
       "      <td>5</td>\n",
       "      <td>0</td>\n",
       "      <td>0</td>\n",
       "      <td>0</td>\n",
       "      <td>0.000000</td>\n",
       "    </tr>\n",
       "    <tr>\n",
       "      <th>4</th>\n",
       "      <td>0</td>\n",
       "      <td>0.907239</td>\n",
       "      <td>49</td>\n",
       "      <td>1</td>\n",
       "      <td>0.024926</td>\n",
       "      <td>63588.000000</td>\n",
       "      <td>7</td>\n",
       "      <td>0</td>\n",
       "      <td>1</td>\n",
       "      <td>0</td>\n",
       "      <td>0.000000</td>\n",
       "    </tr>\n",
       "    <tr>\n",
       "      <th>5</th>\n",
       "      <td>0</td>\n",
       "      <td>0.213179</td>\n",
       "      <td>74</td>\n",
       "      <td>0</td>\n",
       "      <td>0.375607</td>\n",
       "      <td>3500.000000</td>\n",
       "      <td>3</td>\n",
       "      <td>0</td>\n",
       "      <td>1</td>\n",
       "      <td>0</td>\n",
       "      <td>1.000000</td>\n",
       "    </tr>\n",
       "    <tr>\n",
       "      <th>6</th>\n",
       "      <td>0</td>\n",
       "      <td>0.305682</td>\n",
       "      <td>57</td>\n",
       "      <td>0</td>\n",
       "      <td>5710.000000</td>\n",
       "      <td>6670.221237</td>\n",
       "      <td>8</td>\n",
       "      <td>0</td>\n",
       "      <td>3</td>\n",
       "      <td>0</td>\n",
       "      <td>0.000000</td>\n",
       "    </tr>\n",
       "    <tr>\n",
       "      <th>7</th>\n",
       "      <td>0</td>\n",
       "      <td>0.754464</td>\n",
       "      <td>39</td>\n",
       "      <td>0</td>\n",
       "      <td>0.209940</td>\n",
       "      <td>3500.000000</td>\n",
       "      <td>8</td>\n",
       "      <td>0</td>\n",
       "      <td>0</td>\n",
       "      <td>0</td>\n",
       "      <td>0.000000</td>\n",
       "    </tr>\n",
       "    <tr>\n",
       "      <th>8</th>\n",
       "      <td>0</td>\n",
       "      <td>0.116951</td>\n",
       "      <td>27</td>\n",
       "      <td>0</td>\n",
       "      <td>46.000000</td>\n",
       "      <td>6670.221237</td>\n",
       "      <td>2</td>\n",
       "      <td>0</td>\n",
       "      <td>0</td>\n",
       "      <td>0</td>\n",
       "      <td>0.757222</td>\n",
       "    </tr>\n",
       "    <tr>\n",
       "      <th>9</th>\n",
       "      <td>0</td>\n",
       "      <td>0.189169</td>\n",
       "      <td>57</td>\n",
       "      <td>0</td>\n",
       "      <td>0.606291</td>\n",
       "      <td>23684.000000</td>\n",
       "      <td>9</td>\n",
       "      <td>0</td>\n",
       "      <td>4</td>\n",
       "      <td>0</td>\n",
       "      <td>2.000000</td>\n",
       "    </tr>\n",
       "    <tr>\n",
       "      <th>10</th>\n",
       "      <td>0</td>\n",
       "      <td>0.644226</td>\n",
       "      <td>30</td>\n",
       "      <td>0</td>\n",
       "      <td>0.309476</td>\n",
       "      <td>2500.000000</td>\n",
       "      <td>5</td>\n",
       "      <td>0</td>\n",
       "      <td>0</td>\n",
       "      <td>0</td>\n",
       "      <td>0.000000</td>\n",
       "    </tr>\n",
       "    <tr>\n",
       "      <th>11</th>\n",
       "      <td>0</td>\n",
       "      <td>0.018798</td>\n",
       "      <td>51</td>\n",
       "      <td>0</td>\n",
       "      <td>0.531529</td>\n",
       "      <td>6501.000000</td>\n",
       "      <td>7</td>\n",
       "      <td>0</td>\n",
       "      <td>2</td>\n",
       "      <td>0</td>\n",
       "      <td>2.000000</td>\n",
       "    </tr>\n",
       "    <tr>\n",
       "      <th>12</th>\n",
       "      <td>0</td>\n",
       "      <td>0.010352</td>\n",
       "      <td>46</td>\n",
       "      <td>0</td>\n",
       "      <td>0.298354</td>\n",
       "      <td>12454.000000</td>\n",
       "      <td>13</td>\n",
       "      <td>0</td>\n",
       "      <td>2</td>\n",
       "      <td>0</td>\n",
       "      <td>2.000000</td>\n",
       "    </tr>\n",
       "    <tr>\n",
       "      <th>13</th>\n",
       "      <td>1</td>\n",
       "      <td>0.964673</td>\n",
       "      <td>40</td>\n",
       "      <td>3</td>\n",
       "      <td>0.382965</td>\n",
       "      <td>13700.000000</td>\n",
       "      <td>9</td>\n",
       "      <td>3</td>\n",
       "      <td>1</td>\n",
       "      <td>1</td>\n",
       "      <td>2.000000</td>\n",
       "    </tr>\n",
       "    <tr>\n",
       "      <th>14</th>\n",
       "      <td>0</td>\n",
       "      <td>0.019657</td>\n",
       "      <td>76</td>\n",
       "      <td>0</td>\n",
       "      <td>477.000000</td>\n",
       "      <td>0.000000</td>\n",
       "      <td>6</td>\n",
       "      <td>0</td>\n",
       "      <td>1</td>\n",
       "      <td>0</td>\n",
       "      <td>0.000000</td>\n",
       "    </tr>\n",
       "    <tr>\n",
       "      <th>15</th>\n",
       "      <td>0</td>\n",
       "      <td>0.548458</td>\n",
       "      <td>64</td>\n",
       "      <td>0</td>\n",
       "      <td>0.209892</td>\n",
       "      <td>11362.000000</td>\n",
       "      <td>7</td>\n",
       "      <td>0</td>\n",
       "      <td>1</td>\n",
       "      <td>0</td>\n",
       "      <td>2.000000</td>\n",
       "    </tr>\n",
       "    <tr>\n",
       "      <th>16</th>\n",
       "      <td>0</td>\n",
       "      <td>0.061086</td>\n",
       "      <td>78</td>\n",
       "      <td>0</td>\n",
       "      <td>2058.000000</td>\n",
       "      <td>6670.221237</td>\n",
       "      <td>10</td>\n",
       "      <td>0</td>\n",
       "      <td>2</td>\n",
       "      <td>0</td>\n",
       "      <td>0.000000</td>\n",
       "    </tr>\n",
       "    <tr>\n",
       "      <th>17</th>\n",
       "      <td>0</td>\n",
       "      <td>0.166284</td>\n",
       "      <td>53</td>\n",
       "      <td>0</td>\n",
       "      <td>0.188274</td>\n",
       "      <td>8800.000000</td>\n",
       "      <td>7</td>\n",
       "      <td>0</td>\n",
       "      <td>0</td>\n",
       "      <td>0</td>\n",
       "      <td>0.000000</td>\n",
       "    </tr>\n",
       "    <tr>\n",
       "      <th>18</th>\n",
       "      <td>0</td>\n",
       "      <td>0.221813</td>\n",
       "      <td>43</td>\n",
       "      <td>0</td>\n",
       "      <td>0.527888</td>\n",
       "      <td>3280.000000</td>\n",
       "      <td>7</td>\n",
       "      <td>0</td>\n",
       "      <td>1</td>\n",
       "      <td>0</td>\n",
       "      <td>2.000000</td>\n",
       "    </tr>\n",
       "    <tr>\n",
       "      <th>19</th>\n",
       "      <td>0</td>\n",
       "      <td>0.602794</td>\n",
       "      <td>25</td>\n",
       "      <td>0</td>\n",
       "      <td>0.065868</td>\n",
       "      <td>333.000000</td>\n",
       "      <td>2</td>\n",
       "      <td>0</td>\n",
       "      <td>0</td>\n",
       "      <td>0</td>\n",
       "      <td>0.000000</td>\n",
       "    </tr>\n",
       "    <tr>\n",
       "      <th>20</th>\n",
       "      <td>0</td>\n",
       "      <td>0.200923</td>\n",
       "      <td>43</td>\n",
       "      <td>0</td>\n",
       "      <td>0.430046</td>\n",
       "      <td>12300.000000</td>\n",
       "      <td>10</td>\n",
       "      <td>0</td>\n",
       "      <td>2</td>\n",
       "      <td>0</td>\n",
       "      <td>0.000000</td>\n",
       "    </tr>\n",
       "    <tr>\n",
       "      <th>21</th>\n",
       "      <td>1</td>\n",
       "      <td>0.025656</td>\n",
       "      <td>38</td>\n",
       "      <td>0</td>\n",
       "      <td>0.475841</td>\n",
       "      <td>3000.000000</td>\n",
       "      <td>7</td>\n",
       "      <td>0</td>\n",
       "      <td>1</td>\n",
       "      <td>0</td>\n",
       "      <td>2.000000</td>\n",
       "    </tr>\n",
       "    <tr>\n",
       "      <th>22</th>\n",
       "      <td>0</td>\n",
       "      <td>1.000000</td>\n",
       "      <td>39</td>\n",
       "      <td>0</td>\n",
       "      <td>0.241104</td>\n",
       "      <td>2500.000000</td>\n",
       "      <td>4</td>\n",
       "      <td>0</td>\n",
       "      <td>0</td>\n",
       "      <td>0</td>\n",
       "      <td>0.000000</td>\n",
       "    </tr>\n",
       "    <tr>\n",
       "      <th>23</th>\n",
       "      <td>0</td>\n",
       "      <td>0.075427</td>\n",
       "      <td>32</td>\n",
       "      <td>0</td>\n",
       "      <td>0.085512</td>\n",
       "      <td>7916.000000</td>\n",
       "      <td>6</td>\n",
       "      <td>0</td>\n",
       "      <td>0</td>\n",
       "      <td>0</td>\n",
       "      <td>0.000000</td>\n",
       "    </tr>\n",
       "    <tr>\n",
       "      <th>24</th>\n",
       "      <td>0</td>\n",
       "      <td>0.046560</td>\n",
       "      <td>58</td>\n",
       "      <td>0</td>\n",
       "      <td>0.241622</td>\n",
       "      <td>2416.000000</td>\n",
       "      <td>9</td>\n",
       "      <td>0</td>\n",
       "      <td>1</td>\n",
       "      <td>0</td>\n",
       "      <td>0.000000</td>\n",
       "    </tr>\n",
       "    <tr>\n",
       "      <th>25</th>\n",
       "      <td>1</td>\n",
       "      <td>0.392248</td>\n",
       "      <td>50</td>\n",
       "      <td>0</td>\n",
       "      <td>1.595253</td>\n",
       "      <td>4676.000000</td>\n",
       "      <td>14</td>\n",
       "      <td>0</td>\n",
       "      <td>3</td>\n",
       "      <td>0</td>\n",
       "      <td>1.000000</td>\n",
       "    </tr>\n",
       "    <tr>\n",
       "      <th>26</th>\n",
       "      <td>0</td>\n",
       "      <td>0.052436</td>\n",
       "      <td>58</td>\n",
       "      <td>0</td>\n",
       "      <td>0.097672</td>\n",
       "      <td>8333.000000</td>\n",
       "      <td>22</td>\n",
       "      <td>0</td>\n",
       "      <td>1</td>\n",
       "      <td>0</td>\n",
       "      <td>0.000000</td>\n",
       "    </tr>\n",
       "    <tr>\n",
       "      <th>27</th>\n",
       "      <td>0</td>\n",
       "      <td>0.034421</td>\n",
       "      <td>69</td>\n",
       "      <td>0</td>\n",
       "      <td>0.042383</td>\n",
       "      <td>2500.000000</td>\n",
       "      <td>17</td>\n",
       "      <td>0</td>\n",
       "      <td>0</td>\n",
       "      <td>0</td>\n",
       "      <td>1.000000</td>\n",
       "    </tr>\n",
       "    <tr>\n",
       "      <th>28</th>\n",
       "      <td>0</td>\n",
       "      <td>0.452516</td>\n",
       "      <td>24</td>\n",
       "      <td>0</td>\n",
       "      <td>0.011761</td>\n",
       "      <td>3400.000000</td>\n",
       "      <td>1</td>\n",
       "      <td>0</td>\n",
       "      <td>0</td>\n",
       "      <td>0</td>\n",
       "      <td>0.000000</td>\n",
       "    </tr>\n",
       "    <tr>\n",
       "      <th>29</th>\n",
       "      <td>0</td>\n",
       "      <td>0.392995</td>\n",
       "      <td>58</td>\n",
       "      <td>2</td>\n",
       "      <td>0.436103</td>\n",
       "      <td>5500.000000</td>\n",
       "      <td>15</td>\n",
       "      <td>0</td>\n",
       "      <td>1</td>\n",
       "      <td>0</td>\n",
       "      <td>0.000000</td>\n",
       "    </tr>\n",
       "    <tr>\n",
       "      <th>...</th>\n",
       "      <td>...</td>\n",
       "      <td>...</td>\n",
       "      <td>...</td>\n",
       "      <td>...</td>\n",
       "      <td>...</td>\n",
       "      <td>...</td>\n",
       "      <td>...</td>\n",
       "      <td>...</td>\n",
       "      <td>...</td>\n",
       "      <td>...</td>\n",
       "      <td>...</td>\n",
       "    </tr>\n",
       "    <tr>\n",
       "      <th>149970</th>\n",
       "      <td>0</td>\n",
       "      <td>0.025449</td>\n",
       "      <td>58</td>\n",
       "      <td>0</td>\n",
       "      <td>0.253855</td>\n",
       "      <td>15500.000000</td>\n",
       "      <td>7</td>\n",
       "      <td>0</td>\n",
       "      <td>2</td>\n",
       "      <td>0</td>\n",
       "      <td>2.000000</td>\n",
       "    </tr>\n",
       "    <tr>\n",
       "      <th>149971</th>\n",
       "      <td>0</td>\n",
       "      <td>0.058001</td>\n",
       "      <td>83</td>\n",
       "      <td>0</td>\n",
       "      <td>0.013997</td>\n",
       "      <td>5000.000000</td>\n",
       "      <td>6</td>\n",
       "      <td>0</td>\n",
       "      <td>0</td>\n",
       "      <td>0</td>\n",
       "      <td>0.000000</td>\n",
       "    </tr>\n",
       "    <tr>\n",
       "      <th>149972</th>\n",
       "      <td>0</td>\n",
       "      <td>0.071273</td>\n",
       "      <td>42</td>\n",
       "      <td>0</td>\n",
       "      <td>0.008638</td>\n",
       "      <td>6945.000000</td>\n",
       "      <td>3</td>\n",
       "      <td>0</td>\n",
       "      <td>0</td>\n",
       "      <td>0</td>\n",
       "      <td>1.000000</td>\n",
       "    </tr>\n",
       "    <tr>\n",
       "      <th>149973</th>\n",
       "      <td>0</td>\n",
       "      <td>1.026395</td>\n",
       "      <td>44</td>\n",
       "      <td>0</td>\n",
       "      <td>0.494819</td>\n",
       "      <td>5500.000000</td>\n",
       "      <td>7</td>\n",
       "      <td>0</td>\n",
       "      <td>1</td>\n",
       "      <td>0</td>\n",
       "      <td>1.000000</td>\n",
       "    </tr>\n",
       "    <tr>\n",
       "      <th>149974</th>\n",
       "      <td>0</td>\n",
       "      <td>0.962721</td>\n",
       "      <td>61</td>\n",
       "      <td>2</td>\n",
       "      <td>0.603479</td>\n",
       "      <td>5000.000000</td>\n",
       "      <td>11</td>\n",
       "      <td>0</td>\n",
       "      <td>1</td>\n",
       "      <td>0</td>\n",
       "      <td>0.000000</td>\n",
       "    </tr>\n",
       "    <tr>\n",
       "      <th>149975</th>\n",
       "      <td>0</td>\n",
       "      <td>0.022088</td>\n",
       "      <td>58</td>\n",
       "      <td>0</td>\n",
       "      <td>2716.000000</td>\n",
       "      <td>6670.221237</td>\n",
       "      <td>8</td>\n",
       "      <td>0</td>\n",
       "      <td>2</td>\n",
       "      <td>0</td>\n",
       "      <td>0.000000</td>\n",
       "    </tr>\n",
       "    <tr>\n",
       "      <th>149976</th>\n",
       "      <td>0</td>\n",
       "      <td>0.000627</td>\n",
       "      <td>76</td>\n",
       "      <td>0</td>\n",
       "      <td>60.000000</td>\n",
       "      <td>6670.221237</td>\n",
       "      <td>5</td>\n",
       "      <td>0</td>\n",
       "      <td>0</td>\n",
       "      <td>0</td>\n",
       "      <td>0.000000</td>\n",
       "    </tr>\n",
       "    <tr>\n",
       "      <th>149977</th>\n",
       "      <td>0</td>\n",
       "      <td>0.236450</td>\n",
       "      <td>29</td>\n",
       "      <td>0</td>\n",
       "      <td>349.000000</td>\n",
       "      <td>6670.221237</td>\n",
       "      <td>3</td>\n",
       "      <td>0</td>\n",
       "      <td>0</td>\n",
       "      <td>0</td>\n",
       "      <td>0.000000</td>\n",
       "    </tr>\n",
       "    <tr>\n",
       "      <th>149978</th>\n",
       "      <td>0</td>\n",
       "      <td>0.917635</td>\n",
       "      <td>52</td>\n",
       "      <td>2</td>\n",
       "      <td>0.259496</td>\n",
       "      <td>2500.000000</td>\n",
       "      <td>4</td>\n",
       "      <td>0</td>\n",
       "      <td>0</td>\n",
       "      <td>0</td>\n",
       "      <td>0.000000</td>\n",
       "    </tr>\n",
       "    <tr>\n",
       "      <th>149979</th>\n",
       "      <td>1</td>\n",
       "      <td>0.224711</td>\n",
       "      <td>55</td>\n",
       "      <td>0</td>\n",
       "      <td>0.057235</td>\n",
       "      <td>8700.000000</td>\n",
       "      <td>7</td>\n",
       "      <td>0</td>\n",
       "      <td>0</td>\n",
       "      <td>0</td>\n",
       "      <td>0.000000</td>\n",
       "    </tr>\n",
       "    <tr>\n",
       "      <th>149980</th>\n",
       "      <td>0</td>\n",
       "      <td>0.067644</td>\n",
       "      <td>64</td>\n",
       "      <td>0</td>\n",
       "      <td>0.254976</td>\n",
       "      <td>5525.000000</td>\n",
       "      <td>12</td>\n",
       "      <td>0</td>\n",
       "      <td>1</td>\n",
       "      <td>0</td>\n",
       "      <td>0.000000</td>\n",
       "    </tr>\n",
       "    <tr>\n",
       "      <th>149981</th>\n",
       "      <td>0</td>\n",
       "      <td>0.810012</td>\n",
       "      <td>43</td>\n",
       "      <td>0</td>\n",
       "      <td>0.121752</td>\n",
       "      <td>6849.000000</td>\n",
       "      <td>4</td>\n",
       "      <td>0</td>\n",
       "      <td>0</td>\n",
       "      <td>0</td>\n",
       "      <td>4.000000</td>\n",
       "    </tr>\n",
       "    <tr>\n",
       "      <th>149982</th>\n",
       "      <td>0</td>\n",
       "      <td>0.021046</td>\n",
       "      <td>37</td>\n",
       "      <td>0</td>\n",
       "      <td>0.250272</td>\n",
       "      <td>2760.000000</td>\n",
       "      <td>8</td>\n",
       "      <td>0</td>\n",
       "      <td>0</td>\n",
       "      <td>0</td>\n",
       "      <td>3.000000</td>\n",
       "    </tr>\n",
       "    <tr>\n",
       "      <th>149983</th>\n",
       "      <td>0</td>\n",
       "      <td>0.002485</td>\n",
       "      <td>82</td>\n",
       "      <td>0</td>\n",
       "      <td>0.000800</td>\n",
       "      <td>5000.000000</td>\n",
       "      <td>5</td>\n",
       "      <td>0</td>\n",
       "      <td>0</td>\n",
       "      <td>0</td>\n",
       "      <td>0.000000</td>\n",
       "    </tr>\n",
       "    <tr>\n",
       "      <th>149984</th>\n",
       "      <td>0</td>\n",
       "      <td>0.037548</td>\n",
       "      <td>84</td>\n",
       "      <td>0</td>\n",
       "      <td>25.000000</td>\n",
       "      <td>6670.221237</td>\n",
       "      <td>5</td>\n",
       "      <td>0</td>\n",
       "      <td>0</td>\n",
       "      <td>0</td>\n",
       "      <td>0.000000</td>\n",
       "    </tr>\n",
       "    <tr>\n",
       "      <th>149985</th>\n",
       "      <td>0</td>\n",
       "      <td>0.954409</td>\n",
       "      <td>26</td>\n",
       "      <td>0</td>\n",
       "      <td>0.324962</td>\n",
       "      <td>1950.000000</td>\n",
       "      <td>4</td>\n",
       "      <td>0</td>\n",
       "      <td>0</td>\n",
       "      <td>0</td>\n",
       "      <td>0.000000</td>\n",
       "    </tr>\n",
       "    <tr>\n",
       "      <th>149986</th>\n",
       "      <td>0</td>\n",
       "      <td>0.168102</td>\n",
       "      <td>49</td>\n",
       "      <td>0</td>\n",
       "      <td>0.080384</td>\n",
       "      <td>5000.000000</td>\n",
       "      <td>16</td>\n",
       "      <td>0</td>\n",
       "      <td>0</td>\n",
       "      <td>0</td>\n",
       "      <td>1.000000</td>\n",
       "    </tr>\n",
       "    <tr>\n",
       "      <th>149987</th>\n",
       "      <td>0</td>\n",
       "      <td>1.000000</td>\n",
       "      <td>28</td>\n",
       "      <td>0</td>\n",
       "      <td>0.055692</td>\n",
       "      <td>3249.000000</td>\n",
       "      <td>3</td>\n",
       "      <td>1</td>\n",
       "      <td>0</td>\n",
       "      <td>0</td>\n",
       "      <td>0.000000</td>\n",
       "    </tr>\n",
       "    <tr>\n",
       "      <th>149988</th>\n",
       "      <td>0</td>\n",
       "      <td>0.902051</td>\n",
       "      <td>31</td>\n",
       "      <td>1</td>\n",
       "      <td>0.347924</td>\n",
       "      <td>7515.000000</td>\n",
       "      <td>10</td>\n",
       "      <td>0</td>\n",
       "      <td>1</td>\n",
       "      <td>0</td>\n",
       "      <td>0.000000</td>\n",
       "    </tr>\n",
       "    <tr>\n",
       "      <th>149989</th>\n",
       "      <td>0</td>\n",
       "      <td>0.013356</td>\n",
       "      <td>62</td>\n",
       "      <td>0</td>\n",
       "      <td>0.001408</td>\n",
       "      <td>9233.000000</td>\n",
       "      <td>4</td>\n",
       "      <td>0</td>\n",
       "      <td>0</td>\n",
       "      <td>0</td>\n",
       "      <td>3.000000</td>\n",
       "    </tr>\n",
       "    <tr>\n",
       "      <th>149990</th>\n",
       "      <td>0</td>\n",
       "      <td>0.055518</td>\n",
       "      <td>46</td>\n",
       "      <td>0</td>\n",
       "      <td>0.609779</td>\n",
       "      <td>4335.000000</td>\n",
       "      <td>7</td>\n",
       "      <td>0</td>\n",
       "      <td>1</td>\n",
       "      <td>0</td>\n",
       "      <td>2.000000</td>\n",
       "    </tr>\n",
       "    <tr>\n",
       "      <th>149991</th>\n",
       "      <td>0</td>\n",
       "      <td>0.104112</td>\n",
       "      <td>59</td>\n",
       "      <td>0</td>\n",
       "      <td>0.477658</td>\n",
       "      <td>10316.000000</td>\n",
       "      <td>10</td>\n",
       "      <td>0</td>\n",
       "      <td>2</td>\n",
       "      <td>0</td>\n",
       "      <td>0.000000</td>\n",
       "    </tr>\n",
       "    <tr>\n",
       "      <th>149992</th>\n",
       "      <td>0</td>\n",
       "      <td>0.871976</td>\n",
       "      <td>50</td>\n",
       "      <td>0</td>\n",
       "      <td>4132.000000</td>\n",
       "      <td>6670.221237</td>\n",
       "      <td>11</td>\n",
       "      <td>0</td>\n",
       "      <td>1</td>\n",
       "      <td>0</td>\n",
       "      <td>3.000000</td>\n",
       "    </tr>\n",
       "    <tr>\n",
       "      <th>149993</th>\n",
       "      <td>0</td>\n",
       "      <td>1.000000</td>\n",
       "      <td>22</td>\n",
       "      <td>0</td>\n",
       "      <td>0.000000</td>\n",
       "      <td>820.000000</td>\n",
       "      <td>1</td>\n",
       "      <td>0</td>\n",
       "      <td>0</td>\n",
       "      <td>0</td>\n",
       "      <td>0.000000</td>\n",
       "    </tr>\n",
       "    <tr>\n",
       "      <th>149994</th>\n",
       "      <td>0</td>\n",
       "      <td>0.385742</td>\n",
       "      <td>50</td>\n",
       "      <td>0</td>\n",
       "      <td>0.404293</td>\n",
       "      <td>3400.000000</td>\n",
       "      <td>7</td>\n",
       "      <td>0</td>\n",
       "      <td>0</td>\n",
       "      <td>0</td>\n",
       "      <td>0.000000</td>\n",
       "    </tr>\n",
       "    <tr>\n",
       "      <th>149995</th>\n",
       "      <td>0</td>\n",
       "      <td>0.040674</td>\n",
       "      <td>74</td>\n",
       "      <td>0</td>\n",
       "      <td>0.225131</td>\n",
       "      <td>2100.000000</td>\n",
       "      <td>4</td>\n",
       "      <td>0</td>\n",
       "      <td>1</td>\n",
       "      <td>0</td>\n",
       "      <td>0.000000</td>\n",
       "    </tr>\n",
       "    <tr>\n",
       "      <th>149996</th>\n",
       "      <td>0</td>\n",
       "      <td>0.299745</td>\n",
       "      <td>44</td>\n",
       "      <td>0</td>\n",
       "      <td>0.716562</td>\n",
       "      <td>5584.000000</td>\n",
       "      <td>4</td>\n",
       "      <td>0</td>\n",
       "      <td>1</td>\n",
       "      <td>0</td>\n",
       "      <td>2.000000</td>\n",
       "    </tr>\n",
       "    <tr>\n",
       "      <th>149997</th>\n",
       "      <td>0</td>\n",
       "      <td>0.246044</td>\n",
       "      <td>58</td>\n",
       "      <td>0</td>\n",
       "      <td>3870.000000</td>\n",
       "      <td>6670.221237</td>\n",
       "      <td>18</td>\n",
       "      <td>0</td>\n",
       "      <td>1</td>\n",
       "      <td>0</td>\n",
       "      <td>0.000000</td>\n",
       "    </tr>\n",
       "    <tr>\n",
       "      <th>149998</th>\n",
       "      <td>0</td>\n",
       "      <td>0.000000</td>\n",
       "      <td>30</td>\n",
       "      <td>0</td>\n",
       "      <td>0.000000</td>\n",
       "      <td>5716.000000</td>\n",
       "      <td>4</td>\n",
       "      <td>0</td>\n",
       "      <td>0</td>\n",
       "      <td>0</td>\n",
       "      <td>0.000000</td>\n",
       "    </tr>\n",
       "    <tr>\n",
       "      <th>149999</th>\n",
       "      <td>0</td>\n",
       "      <td>0.850283</td>\n",
       "      <td>64</td>\n",
       "      <td>0</td>\n",
       "      <td>0.249908</td>\n",
       "      <td>8158.000000</td>\n",
       "      <td>8</td>\n",
       "      <td>0</td>\n",
       "      <td>2</td>\n",
       "      <td>0</td>\n",
       "      <td>0.000000</td>\n",
       "    </tr>\n",
       "  </tbody>\n",
       "</table>\n",
       "<p>150000 rows × 11 columns</p>\n",
       "</div>"
      ],
      "text/plain": [
       "        SeriousDlqin2yrs  RevolvingUtilizationOfUnsecuredLines  age  \\\n",
       "0                      1                              0.766127   45   \n",
       "1                      0                              0.957151   40   \n",
       "2                      0                              0.658180   38   \n",
       "3                      0                              0.233810   30   \n",
       "4                      0                              0.907239   49   \n",
       "5                      0                              0.213179   74   \n",
       "6                      0                              0.305682   57   \n",
       "7                      0                              0.754464   39   \n",
       "8                      0                              0.116951   27   \n",
       "9                      0                              0.189169   57   \n",
       "10                     0                              0.644226   30   \n",
       "11                     0                              0.018798   51   \n",
       "12                     0                              0.010352   46   \n",
       "13                     1                              0.964673   40   \n",
       "14                     0                              0.019657   76   \n",
       "15                     0                              0.548458   64   \n",
       "16                     0                              0.061086   78   \n",
       "17                     0                              0.166284   53   \n",
       "18                     0                              0.221813   43   \n",
       "19                     0                              0.602794   25   \n",
       "20                     0                              0.200923   43   \n",
       "21                     1                              0.025656   38   \n",
       "22                     0                              1.000000   39   \n",
       "23                     0                              0.075427   32   \n",
       "24                     0                              0.046560   58   \n",
       "25                     1                              0.392248   50   \n",
       "26                     0                              0.052436   58   \n",
       "27                     0                              0.034421   69   \n",
       "28                     0                              0.452516   24   \n",
       "29                     0                              0.392995   58   \n",
       "...                  ...                                   ...  ...   \n",
       "149970                 0                              0.025449   58   \n",
       "149971                 0                              0.058001   83   \n",
       "149972                 0                              0.071273   42   \n",
       "149973                 0                              1.026395   44   \n",
       "149974                 0                              0.962721   61   \n",
       "149975                 0                              0.022088   58   \n",
       "149976                 0                              0.000627   76   \n",
       "149977                 0                              0.236450   29   \n",
       "149978                 0                              0.917635   52   \n",
       "149979                 1                              0.224711   55   \n",
       "149980                 0                              0.067644   64   \n",
       "149981                 0                              0.810012   43   \n",
       "149982                 0                              0.021046   37   \n",
       "149983                 0                              0.002485   82   \n",
       "149984                 0                              0.037548   84   \n",
       "149985                 0                              0.954409   26   \n",
       "149986                 0                              0.168102   49   \n",
       "149987                 0                              1.000000   28   \n",
       "149988                 0                              0.902051   31   \n",
       "149989                 0                              0.013356   62   \n",
       "149990                 0                              0.055518   46   \n",
       "149991                 0                              0.104112   59   \n",
       "149992                 0                              0.871976   50   \n",
       "149993                 0                              1.000000   22   \n",
       "149994                 0                              0.385742   50   \n",
       "149995                 0                              0.040674   74   \n",
       "149996                 0                              0.299745   44   \n",
       "149997                 0                              0.246044   58   \n",
       "149998                 0                              0.000000   30   \n",
       "149999                 0                              0.850283   64   \n",
       "\n",
       "        NumberOfTime30-59DaysPastDueNotWorse    DebtRatio  MonthlyIncome  \\\n",
       "0                                          2     0.802982    9120.000000   \n",
       "1                                          0     0.121876    2600.000000   \n",
       "2                                          1     0.085113    3042.000000   \n",
       "3                                          0     0.036050    3300.000000   \n",
       "4                                          1     0.024926   63588.000000   \n",
       "5                                          0     0.375607    3500.000000   \n",
       "6                                          0  5710.000000    6670.221237   \n",
       "7                                          0     0.209940    3500.000000   \n",
       "8                                          0    46.000000    6670.221237   \n",
       "9                                          0     0.606291   23684.000000   \n",
       "10                                         0     0.309476    2500.000000   \n",
       "11                                         0     0.531529    6501.000000   \n",
       "12                                         0     0.298354   12454.000000   \n",
       "13                                         3     0.382965   13700.000000   \n",
       "14                                         0   477.000000       0.000000   \n",
       "15                                         0     0.209892   11362.000000   \n",
       "16                                         0  2058.000000    6670.221237   \n",
       "17                                         0     0.188274    8800.000000   \n",
       "18                                         0     0.527888    3280.000000   \n",
       "19                                         0     0.065868     333.000000   \n",
       "20                                         0     0.430046   12300.000000   \n",
       "21                                         0     0.475841    3000.000000   \n",
       "22                                         0     0.241104    2500.000000   \n",
       "23                                         0     0.085512    7916.000000   \n",
       "24                                         0     0.241622    2416.000000   \n",
       "25                                         0     1.595253    4676.000000   \n",
       "26                                         0     0.097672    8333.000000   \n",
       "27                                         0     0.042383    2500.000000   \n",
       "28                                         0     0.011761    3400.000000   \n",
       "29                                         2     0.436103    5500.000000   \n",
       "...                                      ...          ...            ...   \n",
       "149970                                     0     0.253855   15500.000000   \n",
       "149971                                     0     0.013997    5000.000000   \n",
       "149972                                     0     0.008638    6945.000000   \n",
       "149973                                     0     0.494819    5500.000000   \n",
       "149974                                     2     0.603479    5000.000000   \n",
       "149975                                     0  2716.000000    6670.221237   \n",
       "149976                                     0    60.000000    6670.221237   \n",
       "149977                                     0   349.000000    6670.221237   \n",
       "149978                                     2     0.259496    2500.000000   \n",
       "149979                                     0     0.057235    8700.000000   \n",
       "149980                                     0     0.254976    5525.000000   \n",
       "149981                                     0     0.121752    6849.000000   \n",
       "149982                                     0     0.250272    2760.000000   \n",
       "149983                                     0     0.000800    5000.000000   \n",
       "149984                                     0    25.000000    6670.221237   \n",
       "149985                                     0     0.324962    1950.000000   \n",
       "149986                                     0     0.080384    5000.000000   \n",
       "149987                                     0     0.055692    3249.000000   \n",
       "149988                                     1     0.347924    7515.000000   \n",
       "149989                                     0     0.001408    9233.000000   \n",
       "149990                                     0     0.609779    4335.000000   \n",
       "149991                                     0     0.477658   10316.000000   \n",
       "149992                                     0  4132.000000    6670.221237   \n",
       "149993                                     0     0.000000     820.000000   \n",
       "149994                                     0     0.404293    3400.000000   \n",
       "149995                                     0     0.225131    2100.000000   \n",
       "149996                                     0     0.716562    5584.000000   \n",
       "149997                                     0  3870.000000    6670.221237   \n",
       "149998                                     0     0.000000    5716.000000   \n",
       "149999                                     0     0.249908    8158.000000   \n",
       "\n",
       "        NumberOfOpenCreditLinesAndLoans  NumberOfTimes90DaysLate  \\\n",
       "0                                    13                        0   \n",
       "1                                     4                        0   \n",
       "2                                     2                        1   \n",
       "3                                     5                        0   \n",
       "4                                     7                        0   \n",
       "5                                     3                        0   \n",
       "6                                     8                        0   \n",
       "7                                     8                        0   \n",
       "8                                     2                        0   \n",
       "9                                     9                        0   \n",
       "10                                    5                        0   \n",
       "11                                    7                        0   \n",
       "12                                   13                        0   \n",
       "13                                    9                        3   \n",
       "14                                    6                        0   \n",
       "15                                    7                        0   \n",
       "16                                   10                        0   \n",
       "17                                    7                        0   \n",
       "18                                    7                        0   \n",
       "19                                    2                        0   \n",
       "20                                   10                        0   \n",
       "21                                    7                        0   \n",
       "22                                    4                        0   \n",
       "23                                    6                        0   \n",
       "24                                    9                        0   \n",
       "25                                   14                        0   \n",
       "26                                   22                        0   \n",
       "27                                   17                        0   \n",
       "28                                    1                        0   \n",
       "29                                   15                        0   \n",
       "...                                 ...                      ...   \n",
       "149970                                7                        0   \n",
       "149971                                6                        0   \n",
       "149972                                3                        0   \n",
       "149973                                7                        0   \n",
       "149974                               11                        0   \n",
       "149975                                8                        0   \n",
       "149976                                5                        0   \n",
       "149977                                3                        0   \n",
       "149978                                4                        0   \n",
       "149979                                7                        0   \n",
       "149980                               12                        0   \n",
       "149981                                4                        0   \n",
       "149982                                8                        0   \n",
       "149983                                5                        0   \n",
       "149984                                5                        0   \n",
       "149985                                4                        0   \n",
       "149986                               16                        0   \n",
       "149987                                3                        1   \n",
       "149988                               10                        0   \n",
       "149989                                4                        0   \n",
       "149990                                7                        0   \n",
       "149991                               10                        0   \n",
       "149992                               11                        0   \n",
       "149993                                1                        0   \n",
       "149994                                7                        0   \n",
       "149995                                4                        0   \n",
       "149996                                4                        0   \n",
       "149997                               18                        0   \n",
       "149998                                4                        0   \n",
       "149999                                8                        0   \n",
       "\n",
       "        NumberRealEstateLoansOrLines  NumberOfTime60-89DaysPastDueNotWorse  \\\n",
       "0                                  6                                     0   \n",
       "1                                  0                                     0   \n",
       "2                                  0                                     0   \n",
       "3                                  0                                     0   \n",
       "4                                  1                                     0   \n",
       "5                                  1                                     0   \n",
       "6                                  3                                     0   \n",
       "7                                  0                                     0   \n",
       "8                                  0                                     0   \n",
       "9                                  4                                     0   \n",
       "10                                 0                                     0   \n",
       "11                                 2                                     0   \n",
       "12                                 2                                     0   \n",
       "13                                 1                                     1   \n",
       "14                                 1                                     0   \n",
       "15                                 1                                     0   \n",
       "16                                 2                                     0   \n",
       "17                                 0                                     0   \n",
       "18                                 1                                     0   \n",
       "19                                 0                                     0   \n",
       "20                                 2                                     0   \n",
       "21                                 1                                     0   \n",
       "22                                 0                                     0   \n",
       "23                                 0                                     0   \n",
       "24                                 1                                     0   \n",
       "25                                 3                                     0   \n",
       "26                                 1                                     0   \n",
       "27                                 0                                     0   \n",
       "28                                 0                                     0   \n",
       "29                                 1                                     0   \n",
       "...                              ...                                   ...   \n",
       "149970                             2                                     0   \n",
       "149971                             0                                     0   \n",
       "149972                             0                                     0   \n",
       "149973                             1                                     0   \n",
       "149974                             1                                     0   \n",
       "149975                             2                                     0   \n",
       "149976                             0                                     0   \n",
       "149977                             0                                     0   \n",
       "149978                             0                                     0   \n",
       "149979                             0                                     0   \n",
       "149980                             1                                     0   \n",
       "149981                             0                                     0   \n",
       "149982                             0                                     0   \n",
       "149983                             0                                     0   \n",
       "149984                             0                                     0   \n",
       "149985                             0                                     0   \n",
       "149986                             0                                     0   \n",
       "149987                             0                                     0   \n",
       "149988                             1                                     0   \n",
       "149989                             0                                     0   \n",
       "149990                             1                                     0   \n",
       "149991                             2                                     0   \n",
       "149992                             1                                     0   \n",
       "149993                             0                                     0   \n",
       "149994                             0                                     0   \n",
       "149995                             1                                     0   \n",
       "149996                             1                                     0   \n",
       "149997                             1                                     0   \n",
       "149998                             0                                     0   \n",
       "149999                             2                                     0   \n",
       "\n",
       "        NumberOfDependents  \n",
       "0                 2.000000  \n",
       "1                 1.000000  \n",
       "2                 0.000000  \n",
       "3                 0.000000  \n",
       "4                 0.000000  \n",
       "5                 1.000000  \n",
       "6                 0.000000  \n",
       "7                 0.000000  \n",
       "8                 0.757222  \n",
       "9                 2.000000  \n",
       "10                0.000000  \n",
       "11                2.000000  \n",
       "12                2.000000  \n",
       "13                2.000000  \n",
       "14                0.000000  \n",
       "15                2.000000  \n",
       "16                0.000000  \n",
       "17                0.000000  \n",
       "18                2.000000  \n",
       "19                0.000000  \n",
       "20                0.000000  \n",
       "21                2.000000  \n",
       "22                0.000000  \n",
       "23                0.000000  \n",
       "24                0.000000  \n",
       "25                1.000000  \n",
       "26                0.000000  \n",
       "27                1.000000  \n",
       "28                0.000000  \n",
       "29                0.000000  \n",
       "...                    ...  \n",
       "149970            2.000000  \n",
       "149971            0.000000  \n",
       "149972            1.000000  \n",
       "149973            1.000000  \n",
       "149974            0.000000  \n",
       "149975            0.000000  \n",
       "149976            0.000000  \n",
       "149977            0.000000  \n",
       "149978            0.000000  \n",
       "149979            0.000000  \n",
       "149980            0.000000  \n",
       "149981            4.000000  \n",
       "149982            3.000000  \n",
       "149983            0.000000  \n",
       "149984            0.000000  \n",
       "149985            0.000000  \n",
       "149986            1.000000  \n",
       "149987            0.000000  \n",
       "149988            0.000000  \n",
       "149989            3.000000  \n",
       "149990            2.000000  \n",
       "149991            0.000000  \n",
       "149992            3.000000  \n",
       "149993            0.000000  \n",
       "149994            0.000000  \n",
       "149995            0.000000  \n",
       "149996            2.000000  \n",
       "149997            0.000000  \n",
       "149998            0.000000  \n",
       "149999            0.000000  \n",
       "\n",
       "[150000 rows x 11 columns]"
      ]
     },
     "execution_count": 6,
     "metadata": {},
     "output_type": "execute_result"
    }
   ],
   "source": [
    "my_dataframe=pd.read_csv('cs-training.csv')\n",
    "my_dataframe=my_dataframe.iloc[:,1:]\n",
    "my_dataframe.fillna(my_dataframe.mean(),inplace=True)"
   ]
  },
  {
   "cell_type": "markdown",
   "metadata": {},
   "source": [
    "# WOE трансформация"
   ]
  },
  {
   "cell_type": "code",
   "execution_count": 7,
   "metadata": {
    "scrolled": true
   },
   "outputs": [
    {
     "name": "stdout",
     "output_type": "stream",
     "text": [
      "Transformation with manual woe\n",
      "     labels       woe\n",
      "0     d_nan -0.036758\n",
      "10  d_0_d_1 -1.000000\n",
      "20        1  0.200495\n",
      "21        2  1.000000\n",
      "22        6 -0.460236\n",
      "26        3  0.032409\n",
      "27        4 -0.107792\n",
      "44        5 -0.291470\n",
      "64        0  0.280999\n",
      "       mean        bad   obs       good       woe      bins labels\n",
      "0  0.221657   6.649700  30.0  23.350300  0.280999      -inf      0\n",
      "1  0.226045   6.781343  30.0  23.218657  0.255742 -0.393731      1\n",
      "2  0.245668   7.370030  30.0  22.629970  0.146815 -0.242627      2\n",
      "3  0.241105   7.233157  30.0  22.766843  0.171591 -0.100627      3\n",
      "1  0.238997   4.779930  20.0  15.220070  0.183150  0.000000    d_0\n",
      "4  0.267480   8.024391  30.0  21.975609  0.032409  0.004095      4\n",
      "5  0.295828   8.874826  30.0  21.125174 -0.107792  0.122563      5\n",
      "6  0.335465  10.063959  30.0  19.936041 -0.291470  0.271922      6\n",
      "7  0.374068  11.222048  30.0  18.777952 -0.460236  0.382677      7\n",
      "2  0.276943   5.538863  20.0  14.461137 -0.015363  1.000000    d_1\n",
      "0  0.281248   5.624955  20.0  14.375045 -0.036758       NaN  d_nan\n",
      "       mean        bad   obs       good       woe      bins   labels\n",
      "0  0.221657   6.649700  30.0  23.350300  0.280999      -inf        0\n",
      "1  0.235856  14.151373  60.0  45.848627  0.200495 -0.393731        1\n",
      "2  0.241105   7.233157  30.0  22.766843  0.171591 -0.100627        2\n",
      "1  0.257970  10.318793  40.0  29.681207  0.081509  0.000000  d_0_d_1\n",
      "3  0.267480   8.024391  30.0  21.975609  0.032409  0.004095        3\n",
      "4  0.295828   8.874826  30.0  21.125174 -0.107792  0.122563        4\n",
      "5  0.335465  10.063959  30.0  19.936041 -0.291470  0.271922        5\n",
      "6  0.374068  11.222048  30.0  18.777952 -0.460236  0.382677        6\n",
      "2  0.257970  10.318793  40.0  29.681207  0.081509  1.000000  d_0_d_1\n",
      "0  0.281248   5.624955  20.0  14.375045 -0.036758       NaN    d_nan\n"
     ]
    },
    {
     "data": {
      "image/png": "[encoded data removed]",
      "text/plain": [
       "<matplotlib.figure.Figure at 0x1d9dcaf0e80>"
      ]
     },
     "metadata": {},
     "output_type": "display_data"
    },
    {
     "data": {
      "image/png": "[encoded data removed]",
      "text/plain": [
       "<matplotlib.figure.Figure at 0x1d9dcbeb358>"
      ]
     },
     "metadata": {},
     "output_type": "display_data"
    },
    {
     "data": {
      "image/png": "[encoded data removed]",
      "text/plain": [
       "<matplotlib.figure.Figure at 0x1d9dc9a72b0>"
      ]
     },
     "metadata": {},
     "output_type": "display_data"
    }
   ],
   "source": [
    "# %load woe.py\n",
    "import pandas as pd\n",
    "import numpy as np\n",
    "import matplotlib.pyplot as plt\n",
    "from sklearn import tree\n",
    "from sklearn.model_selection import cross_val_score\n",
    "\n",
    "__author__ = 'Denis Surzhko'\n",
    "\n",
    "\n",
    "# ver 0.1.5.1\n",
    "# transform: manual woe replacement added\n",
    "# bug fix: min_leaf optimization fixed\n",
    "class WoE:\n",
    "    \"\"\"\n",
    "    Basic functionality for WoE bucketing of continuous and discrete variables\n",
    "    :param self.bins: DataFrame WoE transformed variable and all related statistics\n",
    "    :param self.iv: Information Value of the transformed variable\n",
    "    \"\"\"\n",
    "\n",
    "    def __init__(self, qnt_num=16, min_block_size=16, spec_values=None, v_type='c', bins=None, t_type='b'):\n",
    "        \"\"\"\n",
    "        :param qnt_num: Number of buckets (quartiles) for continuous variable split\n",
    "        :param min_block_size: minimum number of observation in each bucket (continuous variables), incl. optimization restrictions\n",
    "        :param spec_values: List or Dictionary {'label': value} of special values (frequent items etc.)\n",
    "        :param v_type: 'c' for continuous variable, 'd' - for discrete\n",
    "        :param bins: Predefined bucket borders for continuous variable split\n",
    "        :t_type : Binary 'b' or continous 'c' target variable\n",
    "        :return: initialized class\n",
    "        \"\"\"\n",
    "        self.__qnt_num = qnt_num  # Num of buckets/quartiles\n",
    "        self._predefined_bins = None if bins is None else np.array(bins)  # user bins for continuous variables\n",
    "        self.type = v_type  # if 'c' variable should be continuous, if 'd' - discrete\n",
    "        self._min_block_size = min_block_size  # Min num of observation in bucket\n",
    "        self._gb_ratio = None  # Ratio of good and bad in the sample\n",
    "        self.bins = None  # WoE Buckets (bins) and related statistics\n",
    "        self.df = None  # Training sample DataFrame with initial data and assigned woe\n",
    "        self.qnt_num = None  # Number of quartiles used for continuous part of variable binning\n",
    "        self.t_type = t_type  # Type of target variable\n",
    "        if type(spec_values) == dict:  # Parsing special values to dict for cont variables\n",
    "            self.spec_values = {}\n",
    "            for k, v in spec_values.items():\n",
    "                if v.startswith('d_'):\n",
    "                    self.spec_values[k] = v\n",
    "                else:\n",
    "                    self.spec_values[k] = 'd_' + v\n",
    "        else:\n",
    "            if spec_values is None:\n",
    "                self.spec_values = {}\n",
    "            else:\n",
    "                self.spec_values = {i: 'd_' + str(i) for i in spec_values}\n",
    "\n",
    "    def fit(self, x, y):\n",
    "        \"\"\"\n",
    "        Fit WoE transformation\n",
    "        :param x: continuous or discrete predictor\n",
    "        :param y: binary target variable\n",
    "        :return: WoE class\n",
    "        \"\"\"\n",
    "        # Data quality checks\n",
    "        if not isinstance(x, pd.Series):\n",
    "            x = pd.Series(x)\n",
    "        if not isinstance(y, pd.Series):\n",
    "            y = pd.Series(y)\n",
    "        if not x.size == y.size:\n",
    "            raise Exception(\"Y size don't match Y size\")\n",
    "        # Calc total good bad ratio in the sample\n",
    "        t_bad = np.sum(y)\n",
    "        if t_bad == 0 or t_bad == y.size:\n",
    "            raise ValueError(\"There should be BAD and GOOD observations in the sample\")\n",
    "        if np.max(y) > 1 or np.min(y) < 0:\n",
    "            raise ValueError(\"Y range should be between 0 and 1\")\n",
    "        # setting discrete values as special values\n",
    "        if self.type == 'd':\n",
    "            sp_values = {i: 'd_' + str(i) for i in x.unique()}\n",
    "            if len(sp_values) > 100:\n",
    "                raise type(\"DiscreteVarOverFlowError\", (Exception,),\n",
    "                           {\"args\": ('Discrete variable with too many unique values (more than 100)',)})\n",
    "            else:\n",
    "                if self.spec_values:\n",
    "                    sp_values.update(self.spec_values)\n",
    "                self.spec_values = sp_values\n",
    "        # Make data frame for calculations\n",
    "        df = pd.DataFrame({\"X\": x, \"Y\": y, 'order': np.arange(x.size)})\n",
    "        # Separating NaN and Special values\n",
    "        df_sp_values, df_cont = self._split_sample(df)\n",
    "        # # labeling data\n",
    "        df_cont, c_bins = self._cont_labels(df_cont)\n",
    "        df_sp_values, d_bins = self._disc_labels(df_sp_values)\n",
    "        # getting continuous and discrete values together\n",
    "        self.df = df_sp_values.append(df_cont)\n",
    "        self.bins = d_bins.append(c_bins)\n",
    "        # calculating woe and other statistics\n",
    "        self._calc_stat()\n",
    "        # sorting appropriately for further cutting in transform method\n",
    "        self.bins.sort_values('bins', inplace=True)\n",
    "        # returning to original observation order\n",
    "        self.df.sort_values('order', inplace=True)\n",
    "        self.df.set_index(x.index, inplace=True)\n",
    "        return self\n",
    "\n",
    "    def fit_transform(self, x, y):\n",
    "        \"\"\"\n",
    "        Fit WoE transformation\n",
    "        :param x: continuous or discrete predictor\n",
    "        :param y: binary target variable\n",
    "        :return: WoE transformed variable\n",
    "        \"\"\"\n",
    "        self.fit(x, y)\n",
    "        return self.df['woe']\n",
    "\n",
    "    def _split_sample(self, df):\n",
    "        if self.type == 'd':\n",
    "            return df, None\n",
    "        sp_values_flag = df['X'].isin(self.spec_values.keys()).values | df['X'].isnull().values\n",
    "        df_sp_values = df[sp_values_flag].copy()\n",
    "        df_cont = df[np.logical_not(sp_values_flag)].copy()\n",
    "        return df_sp_values, df_cont\n",
    "\n",
    "    def _disc_labels(self, df):\n",
    "        df['labels'] = df['X'].apply(\n",
    "            lambda x: self.spec_values[x] if x in self.spec_values.keys() else 'd_' + str(x))\n",
    "        d_bins = pd.DataFrame({\"bins\": df['X'].unique()})\n",
    "        d_bins['labels'] = d_bins['bins'].apply(\n",
    "            lambda x: self.spec_values[x] if x in self.spec_values.keys() else 'd_' + str(x))\n",
    "        return df, d_bins\n",
    "\n",
    "    def _cont_labels(self, df):\n",
    "        # check whether there is a continuous part\n",
    "        if df is None:\n",
    "            return None, None\n",
    "        # Max buckets num calc\n",
    "        self.qnt_num = int(np.minimum(df['X'].unique().size / self._min_block_size, self.__qnt_num)) + 1\n",
    "        # cuts - label num for each observation, bins - quartile thresholds\n",
    "        bins = None\n",
    "        cuts = None\n",
    "        if self._predefined_bins is None:\n",
    "            try:\n",
    "                cuts, bins = pd.qcut(df[\"X\"], self.qnt_num, retbins=True, labels=False)\n",
    "            except ValueError as ex:\n",
    "                if ex.args[0].startswith('Bin edges must be unique'):\n",
    "                    ex.args = ('Please reduce number of bins or encode frequent items as special values',) + ex.args\n",
    "                    raise\n",
    "            bins = np.append((-float(\"inf\"),), bins[1:-1])\n",
    "        else:\n",
    "            bins = self._predefined_bins\n",
    "            if bins[0] != float(\"-Inf\"):\n",
    "                bins = np.append((-float(\"inf\"),), bins)\n",
    "            cuts = pd.cut(df['X'], bins=np.append(bins, (float(\"inf\"),)),\n",
    "                          labels=np.arange(len(bins)).astype(str))\n",
    "        df[\"labels\"] = cuts.astype(str)\n",
    "        c_bins = pd.DataFrame({\"bins\": bins, \"labels\": np.arange(len(bins)).astype(str)})\n",
    "        return df, c_bins\n",
    "\n",
    "    def _calc_stat(self):\n",
    "        # calculating WoE\n",
    "        col_names = {'count_nonzero': 'bad', 'size': 'obs'}\n",
    "        stat = self.df.groupby(\"labels\")['Y'].agg([np.mean, np.count_nonzero, np.size]).rename(columns=col_names).copy()\n",
    "        if self.t_type != 'b':\n",
    "            stat['bad'] = stat['mean'] * stat['obs']\n",
    "        stat['good'] = stat['obs'] - stat['bad']\n",
    "        t_good = np.maximum(stat['good'].sum(), 0.5)\n",
    "        t_bad = np.maximum(stat['bad'].sum(), 0.5)\n",
    "        stat['woe'] = stat.apply(self._bucket_woe, axis=1) + np.log(t_bad / t_good)\n",
    "        iv_stat = (stat['good'] / t_good - stat['bad'] / t_bad) * stat['woe']\n",
    "        self.iv = iv_stat.sum()\n",
    "        # adding stat data to bins\n",
    "        self.bins = pd.merge(stat, self.bins, left_index=True, right_on=['labels'])\n",
    "        label_woe = self.bins[['woe', 'labels']].drop_duplicates()\n",
    "        self.df = pd.merge(self.df, label_woe, left_on=['labels'], right_on=['labels'])\n",
    "\n",
    "    def transform(self, x, manual_woe=None):\n",
    "        \"\"\"\n",
    "        Transforms input variable according to previously fitted rule\n",
    "        :param x: input variable\n",
    "        :param manual_woe: one can change fitted woe with manual values by providing dict {label: new_woe_value}\n",
    "        :return: DataFrame with transformed with original and transformed variables\n",
    "        \"\"\"\n",
    "        if not isinstance(x, pd.Series):\n",
    "            raise TypeError(\"pandas.Series type expected\")\n",
    "        if self.bins is None:\n",
    "            raise Exception('Fit the model first, please')\n",
    "        df = pd.DataFrame({\"X\": x, 'order': np.arange(x.size)})\n",
    "        # splitting to discrete and continous pars\n",
    "        df_sp_values, df_cont = self._split_sample(df)\n",
    "        # Replacing original with manual woe\n",
    "        if manual_woe:\n",
    "            tr_bins = self.bins[['woe', 'labels']].copy()\n",
    "            if not type(manual_woe) == dict:\n",
    "                TypeError(\"manual_woe should be dict\")\n",
    "            else:\n",
    "                for key in manual_woe:\n",
    "                    tr_bins['woe'].mask(tr_bins['labels'] == key, manual_woe[key], inplace=True)\n",
    "        else:\n",
    "            tr_bins = self.bins\n",
    "            # function checks existence of special values, raises error if sp do not exist in training set\n",
    "\n",
    "        def get_sp_label(x_):\n",
    "            if x_ in self.spec_values.keys():\n",
    "                return self.spec_values[x_]\n",
    "            else:\n",
    "                str_x = 'd_' + str(x_)\n",
    "                if str_x in list(self.bins['labels']):\n",
    "                    return str_x\n",
    "                else:\n",
    "                    raise ValueError('Value {} does not exist in the training set'.format(str_x))\n",
    "\n",
    "        # assigning labels to discrete part\n",
    "        df_sp_values['labels'] = df_sp_values['X'].apply(get_sp_label)\n",
    "        # assigning labels to continuous part\n",
    "        c_bins = self.bins[self.bins['labels'].apply(lambda z: not z.startswith('d_'))]\n",
    "        if not self.type == 'd':\n",
    "            cuts = pd.cut(df_cont['X'], bins=np.append(c_bins[\"bins\"], (float(\"inf\"),)), labels=c_bins[\"labels\"])\n",
    "            df_cont['labels'] = cuts.astype(str)\n",
    "        # Joining continuous and discrete parts\n",
    "        df = df_sp_values.append(df_cont)\n",
    "        # assigning woe\n",
    "        df = pd.merge(df, tr_bins[['woe', 'labels']].drop_duplicates(), left_on=['labels'], right_on=['labels'])\n",
    "        # returning to original observation order\n",
    "        df.sort_values('order', inplace=True)\n",
    "        return df.set_index(x.index)\n",
    "\n",
    "    def merge(self, label1, label2=None):\n",
    "        \"\"\"\n",
    "        Merge of buckets with given labels\n",
    "        In case of discrete variable, both labels should be provided. As the result labels will be marget to one bucket.\n",
    "        In case of continous variable, only label1 should be provided. It will be merged with the next label.\n",
    "        :param label1: first label to merge\n",
    "        :param label2: second label to merge\n",
    "        :return:\n",
    "        \"\"\"\n",
    "        spec_values = self.spec_values.copy()\n",
    "        c_bins = self.bins[self.bins['labels'].apply(lambda x: not x.startswith('d_'))].copy()\n",
    "        if label2 is None and not label1.startswith('d_'):  # removing bucket for continuous variable\n",
    "            c_bins = c_bins[c_bins['labels'] != label1]\n",
    "        else:\n",
    "            if not (label1.startswith('d_') and label2.startswith('d_')):\n",
    "                raise Exception('Labels should be discrete simultaneously')\n",
    "            for i in self.bins[self.bins['labels'] == label1]['bins']:\n",
    "                spec_values[i] = label1 + '_' + label2\n",
    "            bin2 = self.bins[self.bins['labels'] == label2]['bins'].iloc[0]\n",
    "            spec_values[bin2] = label1 + '_' + label2\n",
    "        new_woe = WoE(self.__qnt_num, self._min_block_size, spec_values, self.type, c_bins['bins'], self.t_type)\n",
    "        return new_woe.fit(self.df['X'], self.df['Y'])\n",
    "\n",
    "    def plot(self, sort_values=True, labels=False):\n",
    "        \"\"\"\n",
    "        Plot WoE transformation and default rates\n",
    "        :param sort_values: whether to sort discrete variables by woe, continuous by labels\n",
    "        :param labels: plot labels or intervals for continuous buckets\n",
    "        :return: plotting object\n",
    "        \"\"\"\n",
    "        bar_width = 0.8\n",
    "        woe_fig = plt.figure()\n",
    "        plt.title('Number of Observations and WoE per bucket')\n",
    "        ax = woe_fig.add_subplot(111)\n",
    "        ax.set_ylabel('Observations')\n",
    "        plot_data = self.bins[['labels', 'woe', 'obs', 'bins']].copy().drop_duplicates()\n",
    "        if sort_values:\n",
    "            if self.type == 'd':\n",
    "                plot_data.sort_values('woe', inplace=True)\n",
    "            else:\n",
    "                cont_labels = plot_data['labels'].apply(lambda z: not z.startswith('d_'))\n",
    "                temp_data = plot_data[cont_labels].sort_values('bins')\n",
    "                plot_data = temp_data.append(plot_data[~cont_labels].sort_values('labels'))\n",
    "        # creating plot labels\n",
    "        plot_data['plot_bins'] = plot_data['bins'].apply(lambda x: '{:0.2g}'.format(x))\n",
    "        right_bound = plot_data['plot_bins'].iloc[1:].append(pd.Series(['Inf']))\n",
    "        plot_data['plot_bins'] = plot_data['plot_bins'].add(' : ')\n",
    "        plot_data['plot_bins'] = plot_data['plot_bins'].add(list(right_bound))\n",
    "        cont_labels = plot_data['labels'].apply(lambda z: not z.startswith('d_'))\n",
    "        plot_data['plot_bins'] = np.where(cont_labels, plot_data['plot_bins'], plot_data['labels'])\n",
    "        # start plotting\n",
    "        index = np.arange(plot_data.shape[0])\n",
    "        plt.xticks(index + 0.8 * bar_width, plot_data['labels'] if labels else  plot_data['plot_bins'])\n",
    "        plt.bar(index, plot_data['obs'], bar_width, color='b', label='Observations')\n",
    "        ax2 = ax.twinx()\n",
    "        ax2.set_ylabel('Weight of Evidence')\n",
    "        ax2.plot(index + bar_width / 2, plot_data['woe'], 'bo-', linewidth=4.0, color='r', label='WoE')\n",
    "        handles1, labels1 = ax.get_legend_handles_labels()\n",
    "        handles2, labels2 = ax2.get_legend_handles_labels()\n",
    "        handles = handles1 + handles2\n",
    "        labels = labels1 + labels2\n",
    "        plt.legend(handles, labels)\n",
    "        woe_fig.autofmt_xdate()\n",
    "        return woe_fig\n",
    "\n",
    "    def optimize(self, criterion=None, fix_depth=None, max_depth=None, cv=3, scoring=None, min_samples_leaf=None):\n",
    "        \"\"\"\n",
    "        WoE bucketing optimization (continuous variables only)\n",
    "        :param criterion: binary tree split criteria\n",
    "        :param fix_depth: use tree of a fixed depth (2^fix_depth buckets)\n",
    "        :param max_depth: maximum tree depth for a optimum cross-validation search\n",
    "        :param cv: number of cv buckets\n",
    "        :param scoring: scorer for cross_val_score\n",
    "        :param min_samples_leaf: minimum number of observations in each of optimized buckets\n",
    "        :return: WoE class with optimized continuous variable split\n",
    "        \"\"\"\n",
    "        if self.t_type == 'b':\n",
    "            tree_type = tree.DecisionTreeClassifier\n",
    "        else:\n",
    "            tree_type = tree.DecisionTreeRegressor\n",
    "        m_depth = int(np.log2(self.__qnt_num)) + 1 if max_depth is None else max_depth\n",
    "        cont = self.df['labels'].apply(lambda z: not z.startswith('d_'))\n",
    "        x_train = np.array(self.df[cont]['X'])\n",
    "        y_train = np.array(self.df[cont]['Y'])\n",
    "        x_train = x_train.reshape(x_train.shape[0], 1)\n",
    "        if not min_samples_leaf:\n",
    "            min_samples_leaf = self._min_block_size\n",
    "        start = 1\n",
    "        cv_scores = []\n",
    "        if fix_depth is None:\n",
    "            for i in range(start, m_depth):\n",
    "                if criterion is None:\n",
    "                    d_tree = tree_type(max_depth=i, min_samples_leaf=min_samples_leaf)\n",
    "                else:\n",
    "                    d_tree = tree_type(criterion=criterion, max_depth=i, min_samples_leaf=min_samples_leaf)\n",
    "                scores = cross_val_score(d_tree, x_train, y_train, cv=cv, scoring=scoring)\n",
    "                cv_scores.append(scores.mean())\n",
    "            best = np.argmax(cv_scores) + start\n",
    "        else:\n",
    "            best = fix_depth\n",
    "        final_tree = tree_type(max_depth=best, min_samples_leaf=min_samples_leaf)\n",
    "        final_tree.fit(x_train, y_train)\n",
    "        opt_bins = final_tree.tree_.threshold[final_tree.tree_.feature >= 0]\n",
    "        opt_bins = np.sort(opt_bins)\n",
    "        new_woe = WoE(self.__qnt_num, self._min_block_size, self.spec_values, self.type, opt_bins, self.t_type)\n",
    "        return new_woe.fit(self.df['X'], self.df['Y'])\n",
    "\n",
    "    @staticmethod\n",
    "    def _bucket_woe(x):\n",
    "        t_bad = x['bad']\n",
    "        t_good = x['good']\n",
    "        t_bad = 0.5 if t_bad == 0 else t_bad\n",
    "        t_good = 0.5 if t_good == 0 else t_good\n",
    "        return np.log(t_good / t_bad)\n",
    "\n",
    "\n",
    "# Examples\n",
    "if __name__ == \"__main__\":\n",
    "    # Set target type: 'b' for default/non-default, 'c' for continous pd values\n",
    "    t_type_ = 'c'\n",
    "    # Set sample size\n",
    "    N = 300\n",
    "    # Random variables\n",
    "    x1 = np.random.rand(N) - 0.5\n",
    "    x2 = np.random.rand(N) - 0.5\n",
    "    if t_type_ == 'b':\n",
    "        y_ = np.where(np.random.rand(N, ) + x1 + x2 > 2, 1, 0)\n",
    "    else:\n",
    "        y_ = np.random.rand(N) + x1 + x2\n",
    "        y_ = (y_ - np.min(y_)) / (np.max(y_) - np.min(y_)) / 2\n",
    "    # Inserting special values\n",
    "    x1[0:20] = float('nan')\n",
    "    x1[30:50] = float(0)\n",
    "    x1[60:80] = float(1)\n",
    "    x2[0:10] = float('nan')\n",
    "    x2[10:20] = float(1)\n",
    "    x2[30:40] = float(0)\n",
    "    # Initialize WoE object\n",
    "    woe_def = WoE()\n",
    "    woe = WoE(7, 30, spec_values={0: '0', 1: '1'}, v_type='c', t_type=t_type_)\n",
    "    # Transform x1\n",
    "    woe.fit(pd.Series(x1), pd.Series(y_))\n",
    "    # Transform x2 using x1 transformation rules\n",
    "    woe.transform(pd.Series(x2))\n",
    "    # Optimize x1 transformation using tree with maximal depth = 5 (optimal depth is chosen by cross-validation)\n",
    "    woe2 = woe.optimize(max_depth=5, min_samples_leaf=int(N / 3))\n",
    "    woe2 = woe.optimize(max_depth=3, scoring='r2')\n",
    "    # Merge discrete buckets\n",
    "    woe3 = woe.merge('d_0', 'd_1')\n",
    "    # Merge 2 and 3 continuous buckets\n",
    "    woe4 = woe3.merge('2')\n",
    "    print('Transformation with manual woe')\n",
    "    print(woe4.transform(pd.Series(x2), manual_woe={'d_0_d_1': -1, '2': 1})[['labels', 'woe']].drop_duplicates())\n",
    "    # Print Statistics\n",
    "    print(woe.bins)\n",
    "    # print(woe2.bins)\n",
    "    # print(woe3.bins)\n",
    "    print(woe4.bins)\n",
    "    # Plot and show WoE graph\n",
    "    fig = woe.plot()\n",
    "    plt.show(fig)\n",
    "    fig = woe2.plot()\n",
    "    plt.show(fig)\n",
    "    fig = woe4.plot(labels=True)\n",
    "    plt.show(fig)\n"
   ]
  },
  {
   "cell_type": "code",
   "execution_count": 383,
   "metadata": {
    "collapsed": true
   },
   "outputs": [],
   "source": [
    "woetransform=WoE()"
   ]
  },
  {
   "cell_type": "markdown",
   "metadata": {},
   "source": [
    "Делаем трансформацию"
   ]
  },
  {
   "cell_type": "code",
   "execution_count": 384,
   "metadata": {
    "collapsed": true
   },
   "outputs": [],
   "source": [
    "for k in my_dataframe.columns[1:]:\n",
    "    my_dataframe.loc[:,k]=woe.fit_transform(my_dataframe.loc[:,k],my_dataframe.iloc[:,0])"
   ]
  },
  {
   "cell_type": "markdown",
   "metadata": {},
   "source": [
    "Делим на train И test одинаковой длины и делим train на файлы с ответами 0 и 1"
   ]
  },
  {
   "cell_type": "code",
   "execution_count": 8,
   "metadata": {
    "scrolled": true
   },
   "outputs": [],
   "source": [
    "X_train, X_test, y_train, y_test = train_test_split(my_dataframe.iloc[:,1:], my_dataframe.iloc[:,0:1],test_size=0.2, random_state=241)\n",
    "res_train=pd.concat([pd.DataFrame(X_train),y_train],axis=1)\n",
    "res_test=pd.concat([pd.DataFrame(X_test),y_test],axis=1)\n",
    "res_train1=res_train.loc[res_train['SeriousDlqin2yrs']==1]\n",
    "res_train0=res_train.loc[res_train['SeriousDlqin2yrs']==0].head(n=len(res_train1))"
   ]
  },
  {
   "cell_type": "markdown",
   "metadata": {},
   "source": [
    "Поиск \"кубиков\" для 1й тестовой строки. 3 настраиваемых параметра: d1-Количество эдементов из противоположного класса, допустимое для пропускание кубика дальше. number_of_iter- Количество итераций подбора рандомных значений. number_of_rand_vals -Количество рандомных строк, подбираемых из каждого класса для конкретной тестовой строки "
   ]
  },
  {
   "cell_type": "code",
   "execution_count": 22,
   "metadata": {
    "collapsed": true
   },
   "outputs": [],
   "source": [
    "#@timing\n",
    "#Параметры для подбора - \n",
    "#1) количество рандомных выборок\n",
    "#2) размерность выборки\n",
    "def pattern_structure(test_row,d1,number_of_rand_vals):\n",
    "    np.random.seed(seed=230)\n",
    "    len0=len(res_train0)\n",
    "    len1=len(res_train1)\n",
    "    listok=[]\n",
    "    listok2=[]\n",
    "    #Количество эдементов из противоположного класса\n",
    "#     d1=0.1\n",
    "#     #Количество итераций подбора рандомных значений\n",
    "    number_of_iter=20\n",
    "#     #Количество рандомных значений\n",
    "#     number_of_rand_vals=0.001*len0\n",
    "#     print (\"Кубики с 0\")\n",
    "    for i in range(0,number_of_iter):\n",
    "        count=0\n",
    "        np.random.seed(seed=i)\n",
    "        indexes=np.random.randint(low=0,high=len0,size=number_of_rand_vals)\n",
    "        dataframe_tosend=pd.concat([pd.DataFrame(test_row).transpose(),res_train0.iloc[indexes]])\n",
    "       # print(indexes.size)\n",
    "       # #print(\"Тестовая строка\\n\",test_row)\n",
    "       # print (\"Данные для форматирования\\n\",dataframe_tosend)\n",
    "        #return None\n",
    "        dataframe_tosend=dataframe_tosend.iloc[:,:len(dataframe_tosend.columns)-1]\n",
    "        pat=cross_objects(dataframe_tosend)\n",
    "#         for element in res_train1.iloc[:,:len(res_train1.columns)-1].iterrows():\n",
    "# #             if(count/len1>d1):\n",
    "# #                 print (\"ПЕРЕБОР\")\n",
    "# #                 break\n",
    "#             for var in range(0,len(element[1])):\n",
    "#                 if element[1][var]<pat[0][var] or element[1][var]>pat[1][var]:\n",
    "# #                     print (\"КОСЯК: \",element[1][var],pat[0][var], pat[1][var])\n",
    "#                     break\n",
    "#             else:\n",
    "#                 count+=1    \n",
    "        count=count_suitable(1,pat)\n",
    "#         print (count[0],count[0]/len1)\n",
    "        if count[0]/len1<=d1:\n",
    "            pat.append(list([count[0]/len1]))\n",
    "            pat[2].extend(count_suitable(0,pat))\n",
    "            listok.append(pat)\n",
    "#     print (\"Кубики с 1\")\n",
    "    for i in range(0,number_of_iter):\n",
    "        count=0\n",
    "#         n3=len(res_train0)\n",
    "        np.random.seed(seed=i)\n",
    "        indexes=np.random.randint(low=0,high=len1,size=number_of_rand_vals)\n",
    "        dataframe_tosend=pd.concat([pd.DataFrame(test_row).transpose(),res_train1.iloc[indexes]])\n",
    "        dataframe_tosend=dataframe_tosend.iloc[:,:len(dataframe_tosend.columns)-1]\n",
    "        pat=cross_objects(dataframe_tosend)\n",
    "#         for element in res_train0.iloc[:,:len(res_train0.columns)-1].iterrows():\n",
    "# #             if count/len0>d1:\n",
    "# #                 print (\"ПЕРЕБОР\")\n",
    "# #                 break\n",
    "#             for var in range(0,len(element[1])):\n",
    "#                 if element[1][var]<pat[0][var] or element[1][var]>pat[1][var]:\n",
    "# #                     print (\"КОСЯК: \",element[1][var],pat[0][var], pat[1][var])\n",
    "#                     break\n",
    "#             else:\n",
    "#                 count+=1    \n",
    "        count=count_suitable(0,pat)\n",
    "#         print (count[0],count[0]/len0)\n",
    "        if count[0]/len0<=d1:\n",
    "            pat.append(list([count[0]/len0]))\n",
    "            pat[2].extend(count_suitable(1,pat))\n",
    "            listok2.append(pat)\n",
    "    return listok,listok2"
   ]
  },
  {
   "cell_type": "markdown",
   "metadata": {},
   "source": [
    "Фильтр dataset'a на подходящие по параметрам подвыборки из текущего и противоположного классов"
   ]
  },
  {
   "cell_type": "code",
   "execution_count": 10,
   "metadata": {
    "collapsed": true
   },
   "outputs": [],
   "source": [
    "def count_suitable(index,pat):\n",
    "    if index==1:\n",
    "        dataframe_to_filter=res_train1.iloc[:,:-1].copy()\n",
    "        for column in res_train1.iloc[:,:len(dataframe_to_filter.columns)]:\n",
    "                dataframe_to_filter=dataframe_to_filter[dataframe_to_filter[column]>=pat[0][res_train1.columns.get_loc(column)]]\n",
    "                dataframe_to_filter=dataframe_to_filter[dataframe_to_filter[column]<=pat[1][res_train1.columns.get_loc(column)]]\n",
    "                count=len(dataframe_to_filter)\n",
    "    else:\n",
    "        dataframe_to_filter=res_train0.iloc[:,:-1].copy()\n",
    "        for column in res_train0.iloc[:,:len(dataframe_to_filter.columns)]:\n",
    "#                 print (column, res_train0.columns.get_loc(column),pat[0][res_train0.columns.get_loc(column)],pat[1][res_train0.columns.get_loc(column)])\n",
    "                dataframe_to_filter=dataframe_to_filter[dataframe_to_filter[column]>=pat[0][res_train0.columns.get_loc(column)]]\n",
    "                dataframe_to_filter=dataframe_to_filter[dataframe_to_filter[column]<=pat[1][res_train0.columns.get_loc(column)]]\n",
    "                count=len(dataframe_to_filter)\n",
    "    return list([count,dataframe_to_filter.index.tolist()])"
   ]
  },
  {
   "cell_type": "markdown",
   "metadata": {},
   "source": [
    "Интервалы по каждому столбцу"
   ]
  },
  {
   "cell_type": "code",
   "execution_count": 11,
   "metadata": {
    "collapsed": true
   },
   "outputs": [],
   "source": [
    "def cross_objects(array):\n",
    "#     print (list([np.amin(array,axis=0).values,np.amax(array,axis=0).values]))\n",
    "#     return np.amin(array,axis=0),np.amax(array,axis=0)\n",
    "    return list([np.amin(array,axis=0).values,np.amax(array,axis=0).values])"
   ]
  },
  {
   "cell_type": "markdown",
   "metadata": {},
   "source": [
    "Подсчет метрик( 1)разница в кубиках, 2)количество всех строк ,3) количество уникальных строк из текущего класса)"
   ]
  },
  {
   "cell_type": "code",
   "execution_count": 12,
   "metadata": {
    "collapsed": true
   },
   "outputs": [],
   "source": [
    "def preprocess_metrics(df_row,d1,number_of_rand_vals):\n",
    "    listok0,listok1=pattern_structure(df_row,d1,number_of_rand_vals)\n",
    "    a,b,c=count_metrics(list([listok0,listok1,df_row.name]))\n",
    "    return a,b,c"
   ]
  },
  {
   "cell_type": "code",
   "execution_count": 13,
   "metadata": {
    "collapsed": true
   },
   "outputs": [],
   "source": [
    "def count_metrics(listok):\n",
    "    metr1=len(listok[1])-len(listok[0])\n",
    "    metr2=0\n",
    "    metr3_list1=[]\n",
    "    metr3_list2=[]\n",
    "    metr3=0\n",
    "    for z in range(0,len(listok)-1):\n",
    "#         print listok[z]\n",
    "        if z==0:\n",
    "            for k in listok[z]:\n",
    "#                 print k\n",
    "                metr2-=k[-1][1]\n",
    "                metr3_list1+=k[-1][2]\n",
    "            metr3-=len(set(metr3_list1))\n",
    "        else:\n",
    "            for k in listok[z]:\n",
    "#                 print k\n",
    "                metr2+=k[-1][1]\n",
    "                metr3_list2+=k[-1][2]\n",
    "            metr3+=len(set(metr3_list2))\n",
    "    return metr1,metr2,metr3"
   ]
  },
  {
   "cell_type": "markdown",
   "metadata": {},
   "source": [
    "Итоговый алгоритм"
   ]
  },
  {
   "cell_type": "code",
   "execution_count": 14,
   "metadata": {
    "collapsed": true
   },
   "outputs": [],
   "source": [
    "def tons_of_structures(d1,number_of_rand_vals):\n",
    "    df_test=res_test.iloc[0:10000].copy()\n",
    "    df_test['metr1'],df_test['metr2'],df_test['metr3']=[0]*len(df_test),[0]*len(df_test),[0]*len(df_test)\n",
    "    #print(metr1)\n",
    "    ind=0\n",
    "    for index,row in df_test.iterrows():\n",
    "            metr1,metr2,metr3=preprocess_metrics(row.iloc[:-3],d1,number_of_rand_vals)\n",
    "            df_test.iloc[ind,-3]=metr1\n",
    "            df_test.iloc[ind,-2]=metr2\n",
    "            df_test.iloc[ind,-1]=metr3\n",
    "            ind+=1\n",
    "    return df_test"
   ]
  },
  {
   "cell_type": "markdown",
   "metadata": {},
   "source": [
    "Тест на 20ти элементах"
   ]
  },
  {
   "cell_type": "code",
   "execution_count": 15,
   "metadata": {
    "collapsed": true
   },
   "outputs": [],
   "source": [
    "def test_tons_of_structures(d1,number_of_rand_vals):\n",
    "    df_test=res_test.iloc[0:20].copy()\n",
    "    df_test['metr1'],df_test['metr2'],df_test['metr3']=[0]*len(df_test),[0]*len(df_test),[0]*len(df_test)\n",
    "#     pool = multiprocessing.Pool(processes=2)\n",
    "#     r = pool.map(preprocess_metrics,df_test)\n",
    "#     pool.close()\n",
    "#     return r\n",
    "    ind=0\n",
    "    for index,row in df_test.iterrows():\n",
    "            metr1,metr2,metr3=preprocess_metrics(row.iloc[:-3],d1,number_of_rand_vals)\n",
    "            df_test.iloc[ind,-3]=metr1\n",
    "            df_test.iloc[ind,-2]=metr2\n",
    "            df_test.iloc[ind,-1]=metr3\n",
    "            ind+=1\n",
    "    return df_test\n",
    "    "
   ]
  },
  {
   "cell_type": "markdown",
   "metadata": {},
   "source": [
    "Декоратор для подсчета времени каждой функции"
   ]
  },
  {
   "cell_type": "code",
   "execution_count": 16,
   "metadata": {
    "collapsed": true
   },
   "outputs": [],
   "source": [
    "time_of=[]\n",
    "def timing(f):\n",
    "    def wrap(*args):\n",
    "        time1 = time.time()\n",
    "        ret = f(*args)\n",
    "        time2 = time.time()\n",
    "        time_of.append(time2-time1)\n",
    "        print ('%s function took %0.3f ms' % (f.__name__, (time2-time1)*1000.0))\n",
    "        return ret\n",
    "    return wrap"
   ]
  },
  {
   "cell_type": "code",
   "execution_count": 25,
   "metadata": {},
   "outputs": [
    {
     "name": "stdout",
     "output_type": "stream",
     "text": [
      "Wall time: 10h 38min 5s\n"
     ]
    }
   ],
   "source": [
    "%%time\n",
    "#Сетка параметров \n",
    "#d1: 0.1,0.05,0.01\n",
    "#rand_vals 8,14,20\n",
    "#d1=[0.1,0.05,0.01]\n",
    "rand_vals3=[0.1]\n",
    "rand_vals=[3,5,12,15]\n",
    "rand_vals2=[10,11,12,13,14,15,16]\n",
    "for k in rand_vals:\n",
    "    df_res=tons_of_structures(0.1,k)\n",
    "    writer = pd.ExcelWriter('output_with_d1_{}_and_rand_vals_{}_round_7_without_woe_iter_20.xlsx'.format('0.1',k))\n",
    "    df_res.to_excel(writer,'Sheet1')\n",
    "    writer.save()"
   ]
  },
  {
   "cell_type": "code",
   "execution_count": 44,
   "metadata": {
    "collapsed": true
   },
   "outputs": [],
   "source": [
    "result_metrics=pd.DataFrame()\n",
    "result_metrics['metr1'],result_metrics['metr2'],result_metrics['metr3']=[0]*14,[0]*14,[0]*14\n",
    "result_metrics.index=[3,4,5,6,7,8,9,10,11,12,13,14,15,16]"
   ]
  },
  {
   "cell_type": "code",
   "execution_count": null,
   "metadata": {
    "collapsed": true,
    "scrolled": true
   },
   "outputs": [],
   "source": [
    "d1=[0.1,0.05,0.01]\n",
    "rand_vals=[3,4,5,6,7,8,9,10,11,12,13,14,15,16]\n",
    "for k in rand_vals:\n",
    "    output=pd.read_excel('output_with_d1_{}_and_rand_vals_{}.xlsx'.format('0.1',k))\n",
    "    for col in range(11,14):\n",
    "        x=output.iloc[:,col].copy()\n",
    "        output.iloc[:,col]=(x-min(x))/(max(x)-min(x))\n",
    "        print (k)\n",
    "        if((k==15 or k==16)):\n",
    "            output.iloc[:,col]=[0]*len(output.iloc[:,col])\n",
    "        result_metrics.iloc[k-3,col-11]=roc_auc_score(y_score=output.iloc[:,col],y_true=output.SeriousDlqin2yrs)\n",
    "#         print('rand_vals={}, metr={}'.format(k,col-10))\n",
    "#         print (roc_auc_score(y_score=output.iloc[:,col],y_true=output.SeriousDlqin2yrs))"
   ]
  },
  {
   "cell_type": "code",
   "execution_count": 30,
   "metadata": {},
   "outputs": [
    {
     "data": {
      "text/plain": [
       "3    0.635622\n",
       "4    0.747010\n",
       "5    0.796544\n",
       "6    0.786602\n",
       "7    0.794587\n",
       "8    0.793580\n",
       "9    0.777975\n",
       "Name: metr1, dtype: float64"
      ]
     },
     "execution_count": 30,
     "metadata": {},
     "output_type": "execute_result"
    }
   ],
   "source": [
    "result_metrics['metr1']"
   ]
  },
  {
   "cell_type": "markdown",
   "metadata": {},
   "source": [
    "3 метрики в рамках одного набора параметров d=0.1, k=(3:16)"
   ]
  },
  {
   "cell_type": "code",
   "execution_count": 59,
   "metadata": {
    "scrolled": true
   },
   "outputs": [
    {
     "data": {
      "image/png": "[encoded data removed]",
      "text/plain": [
       "<matplotlib.figure.Figure at 0x1bd4c026080>"
      ]
     },
     "metadata": {},
     "output_type": "display_data"
    }
   ],
   "source": [
    "plt.plot(result_metrics['metr1'],color='darkorange',label='metr1')\n",
    "plt.plot(result_metrics['metr2'],color='blue',label='metr2')\n",
    "plt.plot(result_metrics['metr3'],color='red',label='metr3')\n",
    "plt.show()"
   ]
  },
  {
   "cell_type": "code",
   "execution_count": 8,
   "metadata": {
    "collapsed": true
   },
   "outputs": [
    {
     "ename": "NameError",
     "evalue": "name 'r' is not defined",
     "output_type": "error",
     "traceback": [
      "\u001b[0;31m---------------------------------------------------------------------------\u001b[0m",
      "\u001b[0;31mNameError\u001b[0m                                 Traceback (most recent call last)",
      "\u001b[0;32m<ipython-input-8-896ef8076d83>\u001b[0m in \u001b[0;36m<module>\u001b[0;34m()\u001b[0m\n\u001b[1;32m      1\u001b[0m \u001b[1;31m#Результаты в итоговую таблицу excel\u001b[0m\u001b[1;33m\u001b[0m\u001b[1;33m\u001b[0m\u001b[0m\n\u001b[1;32m      2\u001b[0m \u001b[0mwriter\u001b[0m \u001b[1;33m=\u001b[0m \u001b[0mpd\u001b[0m\u001b[1;33m.\u001b[0m\u001b[0mExcelWriter\u001b[0m\u001b[1;33m(\u001b[0m\u001b[1;34m'output.xlsx'\u001b[0m\u001b[1;33m)\u001b[0m\u001b[1;33m\u001b[0m\u001b[0m\n\u001b[0;32m----> 3\u001b[0;31m \u001b[0mr\u001b[0m\u001b[1;33m.\u001b[0m\u001b[0mto_excel\u001b[0m\u001b[1;33m(\u001b[0m\u001b[0mwriter\u001b[0m\u001b[1;33m,\u001b[0m\u001b[1;34m'Sheet1'\u001b[0m\u001b[1;33m)\u001b[0m\u001b[1;33m\u001b[0m\u001b[0m\n\u001b[0m\u001b[1;32m      4\u001b[0m \u001b[0mwriter\u001b[0m\u001b[1;33m.\u001b[0m\u001b[0msave\u001b[0m\u001b[1;33m(\u001b[0m\u001b[1;33m)\u001b[0m\u001b[1;33m\u001b[0m\u001b[0m\n",
      "\u001b[0;31mNameError\u001b[0m: name 'r' is not defined"
     ]
    }
   ],
   "source": [
    "#Результаты в итоговую таблицу excel\n",
    "writer = pd.ExcelWriter('output.xlsx')\n",
    "r.to_excel(writer,'Sheet1')\n",
    "writer.save()"
   ]
  },
  {
   "cell_type": "markdown",
   "metadata": {},
   "source": [
    "## AUC-ROC кривая"
   ]
  },
  {
   "cell_type": "code",
   "execution_count": 151,
   "metadata": {
    "collapsed": true
   },
   "outputs": [],
   "source": [
    "output=pd.read_excel('output_with_d1_0.1_and_rand_vals_8_round3.xlsx')"
   ]
  },
  {
   "cell_type": "markdown",
   "metadata": {},
   "source": [
    "Нормализуем признаки"
   ]
  },
  {
   "cell_type": "code",
   "execution_count": 152,
   "metadata": {
    "collapsed": true
   },
   "outputs": [],
   "source": [
    "for col in range(11,14):\n",
    "    x=output.iloc[:,col].copy()\n",
    "    output.iloc[:,col]=(x-min(x))/(max(x)-min(x))"
   ]
  },
  {
   "cell_type": "code",
   "execution_count": 153,
   "metadata": {
    "scrolled": true
   },
   "outputs": [
    {
     "data": {
      "image/png": "[encoded data removed]",
      "text/plain": [
       "<matplotlib.figure.Figure at 0x1e465d30278>"
      ]
     },
     "metadata": {},
     "output_type": "display_data"
    }
   ],
   "source": [
    "fpr, tpr, thresholds = roc_curve(y_score=output.metr3,y_true=output.SeriousDlqin2yrs)\n",
    "roc_auc = auc(fpr, tpr)\n",
    "plt.figure()\n",
    "lw = 2\n",
    "plt.plot(fpr, tpr, color='darkorange',\n",
    "         lw=lw, label='ROC curve (area = %0.2f)' % roc_auc)\n",
    "plt.plot([0, 1], [0, 1], color='navy', lw=lw, linestyle='--')\n",
    "plt.xlim([0.0, 1.0])\n",
    "plt.ylim([0.0, 1.05])\n",
    "plt.xlabel('False Positive Rate')\n",
    "plt.ylabel('True Positive Rate')\n",
    "plt.title('Receiver operating characteristic example')\n",
    "plt.legend(loc=\"lower right\")\n",
    "plt.show()"
   ]
  },
  {
   "cell_type": "code",
   "execution_count": 156,
   "metadata": {
    "scrolled": true
   },
   "outputs": [
    {
     "data": {
      "text/plain": [
       "0.79980107686768664"
      ]
     },
     "execution_count": 156,
     "metadata": {},
     "output_type": "execute_result"
    }
   ],
   "source": [
    "roc_auc_score(y_score=output.loc[X_train.index.values].metr3,y_true=output.loc[X_train.index.values].SeriousDlqin2yrs)"
   ]
  },
  {
   "cell_type": "markdown",
   "metadata": {},
   "source": [
    "# Пост обработка классификаторами"
   ]
  },
  {
   "cell_type": "markdown",
   "metadata": {},
   "source": [
    "### Без WoE"
   ]
  },
  {
   "cell_type": "code",
   "execution_count": 411,
   "metadata": {
    "collapsed": true
   },
   "outputs": [],
   "source": [
    "output=pd.read_excel('output_with_d1_0.1_and_rand_vals_9_round_5_without_woe.xlsx')"
   ]
  },
  {
   "cell_type": "code",
   "execution_count": 412,
   "metadata": {
    "collapsed": true
   },
   "outputs": [],
   "source": [
    "X_train, X_test, y_train, y_test = train_test_split(output[output.columns.difference(['SeriousDlqin2yrs'])], output.iloc[:,-4],test_size=0.33, random_state=241)"
   ]
  },
  {
   "cell_type": "code",
   "execution_count": 413,
   "metadata": {
    "collapsed": true
   },
   "outputs": [],
   "source": [
    "def cvDictGen_base(functions, scr, X_train=X_train.iloc[:,:10], y_train=y_train,X_test=X_test.iloc[:,:10], y_test=y_test, cv=3, verbose=1):\n",
    "    cvDict = {}\n",
    "    for func in functions:\n",
    "        cvScore = cross_val_score(func, X_train, y_train, cv=cv, verbose=verbose, scoring=scr)\n",
    "        func.fit(X_train,y_train)\n",
    "        roc_score_test=roc_auc_score(y_score=func.predict_proba(X_test)[:,1],y_true=y_test)\n",
    "        cvDict[str(func).split('(')[0]] = [cvScore.mean(), cvScore.std(),roc_score_test]\n",
    "    return cvDict"
   ]
  },
  {
   "cell_type": "code",
   "execution_count": 414,
   "metadata": {
    "collapsed": true
   },
   "outputs": [],
   "source": [
    "def cvDictGen(functions, scr, X_train=X_train.iloc[:,-3:], y_train=y_train,X_test=X_test.iloc[:,-3:], y_test=y_test, cv=3, verbose=1):\n",
    "    cvDict = {}\n",
    "    for func in functions:\n",
    "        cvScore = cross_val_score(func, X_train, y_train, cv=cv, verbose=verbose, scoring=scr)\n",
    "        func.fit(X_train,y_train)\n",
    "        roc_score_test=roc_auc_score(y_score=func.predict_proba(X_test)[:,1],y_true=y_test)\n",
    "        cvDict[str(func).split('(')[0]] = [cvScore.mean(), cvScore.std(),roc_score_test]\n",
    "    return cvDict\n",
    "def cvDictNormalize(cvDict):\n",
    "    cvDictNormalized = {}\n",
    "    for key in cvDict.keys():\n",
    "        for i in cvDict[key]:\n",
    "            cvDictNormalized[key] = ['Кросс-валидация на обучающей выборке(20т. строк): {:0.3f}'.format((cvDict[key][0])),\n",
    "                                     'Отклонение: {:0.3f}'.format((cvDict[key][1])),\n",
    "                                     'Результат модели на тестовой выборке(10т. строк): {:0.3f}'.format((cvDict[key][2]))]\n",
    "    return cvDictNormalized"
   ]
  },
  {
   "cell_type": "code",
   "execution_count": 415,
   "metadata": {
    "collapsed": true
   },
   "outputs": [],
   "source": [
    "knMod = KNeighborsClassifier(n_neighbors=5, weights='uniform', algorithm='auto', leaf_size=30, p=2,\n",
    "                             metric='minkowski', metric_params=None)\n",
    "glmMod = LogisticRegression(penalty='l2', dual=False, tol=0.0001, C=1.0, fit_intercept=True,\n",
    "                            intercept_scaling=1, class_weight=None, random_state=241, solver='liblinear', max_iter=100,\n",
    "                            multi_class='ovr', verbose=2)\n",
    "adaMod = AdaBoostClassifier(base_estimator=None, n_estimators=200, learning_rate=1.0,random_state=241)\n",
    "gbMod = GradientBoostingClassifier(loss='deviance', learning_rate=0.1, n_estimators=200, subsample=1.0,\n",
    "                                   min_samples_split=2, min_samples_leaf=1, min_weight_fraction_leaf=0.0, max_depth=3,\n",
    "                                   init=None, random_state=241, max_features=None, verbose=0)\n",
    "rfMod = RandomForestClassifier(n_estimators=10, criterion='gini', max_depth=None, min_samples_split=2,\n",
    "                               min_samples_leaf=1, min_weight_fraction_leaf=0.0, max_features='auto',\n",
    "                               max_leaf_nodes=None, bootstrap=True, oob_score=False, n_jobs=1, random_state=241, verbose=0)"
   ]
  },
  {
   "cell_type": "code",
   "execution_count": 416,
   "metadata": {},
   "outputs": [
    {
     "name": "stderr",
     "output_type": "stream",
     "text": [
      "[Parallel(n_jobs=1)]: Done   3 out of   3 | elapsed:    0.0s finished\n",
      "[Parallel(n_jobs=1)]: Done   3 out of   3 | elapsed:    0.0s finished\n"
     ]
    },
    {
     "name": "stdout",
     "output_type": "stream",
     "text": [
      "[LibLinear][LibLinear][LibLinear][LibLinear]"
     ]
    },
    {
     "name": "stderr",
     "output_type": "stream",
     "text": [
      "[Parallel(n_jobs=1)]: Done   3 out of   3 | elapsed:    1.5s finished\n",
      "[Parallel(n_jobs=1)]: Done   3 out of   3 | elapsed:    0.7s finished\n",
      "[Parallel(n_jobs=1)]: Done   3 out of   3 | elapsed:    0.1s finished\n"
     ]
    }
   ],
   "source": [
    "cvD1 = cvDictGen(functions=[knMod, glmMod, adaMod, gbMod, rfMod], scr='roc_auc')"
   ]
  },
  {
   "cell_type": "markdown",
   "metadata": {},
   "source": [
    "Лучшие результаты у логистической регрессии и градиентного бустинга!"
   ]
  },
  {
   "cell_type": "code",
   "execution_count": 417,
   "metadata": {},
   "outputs": [
    {
     "data": {
      "text/plain": [
       "{'AdaBoostClassifier': ['Кросс-валидация на обучающей выборке(20т. строк): 0.746',\n",
       "  'Отклонение: 0.008',\n",
       "  'Результат модели на тестовой выборке(10т. строк): 0.773'],\n",
       " 'GradientBoostingClassifier': ['Кросс-валидация на обучающей выборке(20т. строк): 0.751',\n",
       "  'Отклонение: 0.012',\n",
       "  'Результат модели на тестовой выборке(10т. строк): 0.780'],\n",
       " 'KNeighborsClassifier': ['Кросс-валидация на обучающей выборке(20т. строк): 0.642',\n",
       "  'Отклонение: 0.009',\n",
       "  'Результат модели на тестовой выборке(10т. строк): 0.669'],\n",
       " 'LogisticRegression': ['Кросс-валидация на обучающей выборке(20т. строк): 0.723',\n",
       "  'Отклонение: 0.011',\n",
       "  'Результат модели на тестовой выборке(10т. строк): 0.755'],\n",
       " 'RandomForestClassifier': ['Кросс-валидация на обучающей выборке(20т. строк): 0.642',\n",
       "  'Отклонение: 0.007',\n",
       "  'Результат модели на тестовой выборке(10т. строк): 0.684']}"
      ]
     },
     "execution_count": 417,
     "metadata": {},
     "output_type": "execute_result"
    }
   ],
   "source": [
    "cvDictNormalize(cvD1)"
   ]
  },
  {
   "cell_type": "markdown",
   "metadata": {},
   "source": [
    "Проведем оптимизацию параметров"
   ]
  },
  {
   "cell_type": "code",
   "execution_count": 418,
   "metadata": {
    "scrolled": true
   },
   "outputs": [
    {
     "name": "stdout",
     "output_type": "stream",
     "text": [
      "Fitting 3 folds for each of 10 candidates, totalling 30 fits\n",
      "[CV] loss=deviance, max_depth=5, n_estimators=69 .....................\n",
      "[CV] ............ loss=deviance, max_depth=5, n_estimators=69 -   0.1s\n",
      "[CV] loss=deviance, max_depth=5, n_estimators=69 .....................\n"
     ]
    },
    {
     "name": "stderr",
     "output_type": "stream",
     "text": [
      "[Parallel(n_jobs=1)]: Done   1 out of   1 | elapsed:    0.1s remaining:    0.0s\n"
     ]
    },
    {
     "name": "stdout",
     "output_type": "stream",
     "text": [
      "[CV] ............ loss=deviance, max_depth=5, n_estimators=69 -   0.1s\n",
      "[CV] loss=deviance, max_depth=5, n_estimators=69 .....................\n",
      "[CV] ............ loss=deviance, max_depth=5, n_estimators=69 -   0.1s\n",
      "[CV] loss=deviance, max_depth=2, n_estimators=258 ....................\n",
      "[CV] ........... loss=deviance, max_depth=2, n_estimators=258 -   0.2s\n",
      "[CV] loss=deviance, max_depth=2, n_estimators=258 ....................\n",
      "[CV] ........... loss=deviance, max_depth=2, n_estimators=258 -   0.2s\n",
      "[CV] loss=deviance, max_depth=2, n_estimators=258 ....................\n",
      "[CV] ........... loss=deviance, max_depth=2, n_estimators=258 -   0.3s\n",
      "[CV] loss=exponential, max_depth=2, n_estimators=231 .................\n",
      "[CV] ........ loss=exponential, max_depth=2, n_estimators=231 -   0.1s\n",
      "[CV] loss=exponential, max_depth=2, n_estimators=231 .................\n",
      "[CV] ........ loss=exponential, max_depth=2, n_estimators=231 -   0.1s\n",
      "[CV] loss=exponential, max_depth=2, n_estimators=231 .................\n",
      "[CV] ........ loss=exponential, max_depth=2, n_estimators=231 -   0.1s\n",
      "[CV] loss=deviance, max_depth=1, n_estimators=454 ....................\n",
      "[CV] ........... loss=deviance, max_depth=1, n_estimators=454 -   0.2s\n",
      "[CV] loss=deviance, max_depth=1, n_estimators=454 ....................\n",
      "[CV] ........... loss=deviance, max_depth=1, n_estimators=454 -   0.2s\n",
      "[CV] loss=deviance, max_depth=1, n_estimators=454 ....................\n",
      "[CV] ........... loss=deviance, max_depth=1, n_estimators=454 -   0.3s\n",
      "[CV] loss=deviance, max_depth=9, n_estimators=468 ....................\n",
      "[CV] ........... loss=deviance, max_depth=9, n_estimators=468 -   2.2s\n",
      "[CV] loss=deviance, max_depth=9, n_estimators=468 ....................\n",
      "[CV] ........... loss=deviance, max_depth=9, n_estimators=468 -   2.1s\n",
      "[CV] loss=deviance, max_depth=9, n_estimators=468 ....................\n",
      "[CV] ........... loss=deviance, max_depth=9, n_estimators=468 -   2.3s\n",
      "[CV] loss=deviance, max_depth=9, n_estimators=22 .....................\n",
      "[CV] ............ loss=deviance, max_depth=9, n_estimators=22 -   0.0s\n",
      "[CV] loss=deviance, max_depth=9, n_estimators=22 .....................\n",
      "[CV] ............ loss=deviance, max_depth=9, n_estimators=22 -   0.1s\n",
      "[CV] loss=deviance, max_depth=9, n_estimators=22 .....................\n",
      "[CV] ............ loss=deviance, max_depth=9, n_estimators=22 -   0.0s\n",
      "[CV] loss=deviance, max_depth=7, n_estimators=194 ....................\n",
      "[CV] ........... loss=deviance, max_depth=7, n_estimators=194 -   0.6s\n",
      "[CV] loss=deviance, max_depth=7, n_estimators=194 ....................\n",
      "[CV] ........... loss=deviance, max_depth=7, n_estimators=194 -   0.6s\n",
      "[CV] loss=deviance, max_depth=7, n_estimators=194 ....................\n",
      "[CV] ........... loss=deviance, max_depth=7, n_estimators=194 -   0.6s\n",
      "[CV] loss=exponential, max_depth=9, n_estimators=237 .................\n",
      "[CV] ........ loss=exponential, max_depth=9, n_estimators=237 -   1.2s\n",
      "[CV] loss=exponential, max_depth=9, n_estimators=237 .................\n",
      "[CV] ........ loss=exponential, max_depth=9, n_estimators=237 -   1.2s\n",
      "[CV] loss=exponential, max_depth=9, n_estimators=237 .................\n",
      "[CV] ........ loss=exponential, max_depth=9, n_estimators=237 -   1.2s\n",
      "[CV] loss=exponential, max_depth=6, n_estimators=285 .................\n",
      "[CV] ........ loss=exponential, max_depth=6, n_estimators=285 -   0.7s\n",
      "[CV] loss=exponential, max_depth=6, n_estimators=285 .................\n",
      "[CV] ........ loss=exponential, max_depth=6, n_estimators=285 -   0.7s\n",
      "[CV] loss=exponential, max_depth=6, n_estimators=285 .................\n",
      "[CV] ........ loss=exponential, max_depth=6, n_estimators=285 -   0.7s\n",
      "[CV] loss=deviance, max_depth=8, n_estimators=147 ....................\n",
      "[CV] ........... loss=deviance, max_depth=8, n_estimators=147 -   0.5s\n",
      "[CV] loss=deviance, max_depth=8, n_estimators=147 ....................\n",
      "[CV] ........... loss=deviance, max_depth=8, n_estimators=147 -   0.5s\n",
      "[CV] loss=deviance, max_depth=8, n_estimators=147 ....................\n",
      "[CV] ........... loss=deviance, max_depth=8, n_estimators=147 -   0.5s\n"
     ]
    },
    {
     "name": "stderr",
     "output_type": "stream",
     "text": [
      "[Parallel(n_jobs=1)]: Done  30 out of  30 | elapsed:   20.7s finished\n"
     ]
    },
    {
     "name": "stdout",
     "output_type": "stream",
     "text": [
      "[LibLinear][LibLinear][LibLinear][LibLinear][LibLinear][LibLinear][LibLinear][LibLinear][LibLinear][LibLinear][LibLinear][LibLinear][LibLinear][LibLinear][LibLinear][LibLinear][LibLinear][LibLinear][LibLinear][LibLinear][LibLinear][LibLinear]"
     ]
    },
    {
     "name": "stderr",
     "output_type": "stream",
     "text": [
      "[Parallel(n_jobs=1)]: Done   3 out of   3 | elapsed:    0.9s finished\n"
     ]
    },
    {
     "name": "stdout",
     "output_type": "stream",
     "text": [
      "[LibLinear][LibLinear][LibLinear][LibLinear]"
     ]
    },
    {
     "name": "stderr",
     "output_type": "stream",
     "text": [
      "[Parallel(n_jobs=1)]: Done   3 out of   3 | elapsed:    0.0s finished\n"
     ]
    }
   ],
   "source": [
    "gbHyperParams = {'loss' : ['deviance', 'exponential'],\n",
    "                 'n_estimators': randint(10, 500),\n",
    "                 'max_depth': randint(1,10)}\n",
    "gridSearchGB = RandomizedSearchCV(estimator=gbMod, param_distributions=gbHyperParams, n_iter=10,\n",
    "                                   scoring='roc_auc', fit_params=None, cv=None, verbose=2).fit(X_train.iloc[:,-3:], y_train)\n",
    "# print(gridSearchGB.best_params_, gridSearchGB.best_score_)\n",
    "bestGbModFitted = gridSearchGB.best_estimator_\n",
    "param_grid = {'C': [0.001, 0.01, 0.1, 1, 10, 100, 1000] }\n",
    "clf = GridSearchCV(glmMod, param_grid, scoring='roc_auc')\n",
    "clf.fit(X_train.iloc[:,-3:],y_train)\n",
    "bestGlModFitted=clf.best_estimator_\n",
    "cvDictHPO = cvDictGen(functions=[bestGbModFitted, bestGlModFitted], scr='roc_auc')"
   ]
  },
  {
   "cell_type": "markdown",
   "metadata": {},
   "source": [
    "Виден незначительный прирост на градиентном бустинге и логистической регрессии:"
   ]
  },
  {
   "cell_type": "code",
   "execution_count": 419,
   "metadata": {},
   "outputs": [
    {
     "data": {
      "text/plain": [
       "{'GradientBoostingClassifier': ['Кросс-валидация на обучающей выборке(20т. строк): 0.772',\n",
       "  'Отклонение: 0.007',\n",
       "  'Результат модели на тестовой выборке(10т. строк): 0.788'],\n",
       " 'LogisticRegression': ['Кросс-валидация на обучающей выборке(20т. строк): 0.723',\n",
       "  'Отклонение: 0.011',\n",
       "  'Результат модели на тестовой выборке(10т. строк): 0.755']}"
      ]
     },
     "execution_count": 419,
     "metadata": {},
     "output_type": "execute_result"
    }
   ],
   "source": [
    "cvDictNormalize(cvDictHPO)"
   ]
  },
  {
   "cell_type": "markdown",
   "metadata": {},
   "source": [
    "Исходный roc_auc при алгоритме узорных структур на обучающей выборке:"
   ]
  },
  {
   "cell_type": "code",
   "execution_count": 420,
   "metadata": {
    "scrolled": true
   },
   "outputs": [
    {
     "data": {
      "text/plain": [
       "0.74967340565762741"
      ]
     },
     "execution_count": 420,
     "metadata": {},
     "output_type": "execute_result"
    }
   ],
   "source": [
    "roc_auc_score(y_score=output.loc[X_train.index.values].metr1,y_true=output.loc[X_train.index.values].SeriousDlqin2yrs)"
   ]
  },
  {
   "cell_type": "markdown",
   "metadata": {},
   "source": [
    "На тестовой выборке"
   ]
  },
  {
   "cell_type": "code",
   "execution_count": 421,
   "metadata": {},
   "outputs": [
    {
     "data": {
      "text/plain": [
       "0.76294349905461012"
      ]
     },
     "execution_count": 421,
     "metadata": {},
     "output_type": "execute_result"
    }
   ],
   "source": [
    "roc_auc_score(y_score=output.loc[X_test.index.values].metr1,y_true=output.loc[X_test.index.values].SeriousDlqin2yrs)"
   ]
  },
  {
   "cell_type": "markdown",
   "metadata": {},
   "source": [
    "базовые алгоритмы классификации"
   ]
  },
  {
   "cell_type": "code",
   "execution_count": 422,
   "metadata": {
    "collapsed": true
   },
   "outputs": [],
   "source": [
    "knMod = KNeighborsClassifier(n_neighbors=5, weights='uniform', algorithm='auto', leaf_size=30, p=2,\n",
    "                             metric='minkowski', metric_params=None)\n",
    "glmMod = LogisticRegression(penalty='l1', dual=False, tol=0.0001, C=1.0, fit_intercept=True,\n",
    "                            intercept_scaling=1, class_weight=None, random_state=None, solver='liblinear', max_iter=100,\n",
    "                            multi_class='ovr', verbose=2)\n",
    "adaMod = AdaBoostClassifier(base_estimator=None, n_estimators=200, learning_rate=1.0)\n",
    "gbMod = GradientBoostingClassifier(loss='deviance', learning_rate=0.1, n_estimators=200, subsample=1.0,\n",
    "                                   min_samples_split=2, min_samples_leaf=1, min_weight_fraction_leaf=0.0, max_depth=3,\n",
    "                                   init=None, random_state=None, max_features=None, verbose=0)\n",
    "rfMod = RandomForestClassifier(n_estimators=10, criterion='gini', max_depth=None, min_samples_split=2,\n",
    "                               min_samples_leaf=1, min_weight_fraction_leaf=0.0, max_features='auto',\n",
    "                               max_leaf_nodes=None, bootstrap=True, oob_score=False, n_jobs=1, random_state=None, verbose=0)"
   ]
  },
  {
   "cell_type": "code",
   "execution_count": 423,
   "metadata": {},
   "outputs": [
    {
     "name": "stderr",
     "output_type": "stream",
     "text": [
      "[Parallel(n_jobs=1)]: Done   3 out of   3 | elapsed:    0.0s finished\n",
      "[Parallel(n_jobs=1)]: Done   3 out of   3 | elapsed:    0.0s finished\n"
     ]
    },
    {
     "name": "stdout",
     "output_type": "stream",
     "text": [
      "[LibLinear][LibLinear][LibLinear][LibLinear]"
     ]
    },
    {
     "name": "stderr",
     "output_type": "stream",
     "text": [
      "[Parallel(n_jobs=1)]: Done   3 out of   3 | elapsed:    2.0s finished\n",
      "[Parallel(n_jobs=1)]: Done   3 out of   3 | elapsed:    1.3s finished\n",
      "[Parallel(n_jobs=1)]: Done   3 out of   3 | elapsed:    0.1s finished\n"
     ]
    }
   ],
   "source": [
    "cvD2 = cvDictGen_base(functions=[knMod, glmMod, adaMod, gbMod, rfMod], scr='roc_auc')"
   ]
  },
  {
   "cell_type": "code",
   "execution_count": 424,
   "metadata": {},
   "outputs": [
    {
     "data": {
      "text/plain": [
       "{'AdaBoostClassifier': ['Кросс-валидация на обучающей выборке(20т. строк): 0.798',\n",
       "  'Отклонение: 0.015',\n",
       "  'Результат модели на тестовой выборке(10т. строк): 0.819'],\n",
       " 'GradientBoostingClassifier': ['Кросс-валидация на обучающей выборке(20т. строк): 0.826',\n",
       "  'Отклонение: 0.004',\n",
       "  'Результат модели на тестовой выборке(10т. строк): 0.851'],\n",
       " 'KNeighborsClassifier': ['Кросс-валидация на обучающей выборке(20т. строк): 0.540',\n",
       "  'Отклонение: 0.020',\n",
       "  'Результат модели на тестовой выборке(10т. строк): 0.535'],\n",
       " 'LogisticRegression': ['Кросс-валидация на обучающей выборке(20т. строк): 0.703',\n",
       "  'Отклонение: 0.030',\n",
       "  'Результат модели на тестовой выборке(10т. строк): 0.671'],\n",
       " 'RandomForestClassifier': ['Кросс-валидация на обучающей выборке(20т. строк): 0.744',\n",
       "  'Отклонение: 0.011',\n",
       "  'Результат модели на тестовой выборке(10т. строк): 0.794']}"
      ]
     },
     "execution_count": 424,
     "metadata": {},
     "output_type": "execute_result"
    }
   ],
   "source": [
    "cvDictNormalize(cvD2)"
   ]
  },
  {
   "cell_type": "markdown",
   "metadata": {},
   "source": [
    "### С WoE"
   ]
  },
  {
   "cell_type": "code",
   "execution_count": 425,
   "metadata": {
    "collapsed": true
   },
   "outputs": [],
   "source": [
    "output2=pd.read_excel('output_with_d1_0.1_and_rand_vals_9_round_5_with_woe.xlsx')"
   ]
  },
  {
   "cell_type": "code",
   "execution_count": 426,
   "metadata": {
    "collapsed": true
   },
   "outputs": [],
   "source": [
    "X_train, X_test, y_train, y_test = train_test_split(output2[output2.columns.difference(['SeriousDlqin2yrs'])], output2.iloc[:,-4],test_size=0.33, random_state=241)"
   ]
  },
  {
   "cell_type": "code",
   "execution_count": 427,
   "metadata": {
    "collapsed": true
   },
   "outputs": [],
   "source": [
    "def cvDictGen_base(functions, scr, X_train=X_train.iloc[:,:10], y_train=y_train,X_test=X_test.iloc[:,:10], y_test=y_test, cv=3, verbose=1):\n",
    "    cvDict = {}\n",
    "    for func in functions:\n",
    "        cvScore = cross_val_score(func, X_train, y_train, cv=cv, verbose=verbose, scoring=scr)\n",
    "        func.fit(X_train,y_train)\n",
    "        roc_score_test=roc_auc_score(y_score=func.predict_proba(X_test)[:,1],y_true=y_test)\n",
    "        cvDict[str(func).split('(')[0]] = [cvScore.mean(), cvScore.std(),roc_score_test]\n",
    "    return cvDict"
   ]
  },
  {
   "cell_type": "code",
   "execution_count": 428,
   "metadata": {
    "collapsed": true
   },
   "outputs": [],
   "source": [
    "def cvDictGen(functions, scr, X_train=X_train.iloc[:,-3:], y_train=y_train,X_test=X_test.iloc[:,-3:], y_test=y_test, cv=3, verbose=1):\n",
    "    cvDict = {}\n",
    "    for func in functions:\n",
    "        cvScore = cross_val_score(func, X_train, y_train, cv=cv, verbose=verbose, scoring=scr)\n",
    "        func.fit(X_train,y_train)\n",
    "        roc_score_test=roc_auc_score(y_score=func.predict_proba(X_test)[:,1],y_true=y_test)\n",
    "        cvDict[str(func).split('(')[0]] = [cvScore.mean(), cvScore.std(),roc_score_test]\n",
    "    return cvDict\n",
    "def cvDictNormalize(cvDict):\n",
    "    cvDictNormalized = {}\n",
    "    for key in cvDict.keys():\n",
    "        for i in cvDict[key]:\n",
    "            cvDictNormalized[key] = ['Кросс-валидация на обучающей выборке(20т. строк): {:0.3f}'.format((cvDict[key][0])),\n",
    "                                     'Отклонение: {:0.3f}'.format((cvDict[key][1])),\n",
    "                                     'Результат модели на тестовой выборке(10т. строк): {:0.3f}'.format((cvDict[key][2]))]\n",
    "    return cvDictNormalized"
   ]
  },
  {
   "cell_type": "code",
   "execution_count": 429,
   "metadata": {
    "collapsed": true
   },
   "outputs": [],
   "source": [
    "knMod = KNeighborsClassifier(n_neighbors=5, weights='uniform', algorithm='auto', leaf_size=30, p=2,\n",
    "                             metric='minkowski', metric_params=None)\n",
    "glmMod = LogisticRegression(penalty='l2', dual=False, tol=0.0001, C=1.0, fit_intercept=True,\n",
    "                            intercept_scaling=1, class_weight=None, random_state=241, solver='liblinear', max_iter=100,\n",
    "                            multi_class='ovr', verbose=2)\n",
    "adaMod = AdaBoostClassifier(base_estimator=None, n_estimators=200, learning_rate=1.0,random_state=241)\n",
    "gbMod = GradientBoostingClassifier(loss='deviance', learning_rate=0.1, n_estimators=200, subsample=1.0,\n",
    "                                   min_samples_split=2, min_samples_leaf=1, min_weight_fraction_leaf=0.0, max_depth=3,\n",
    "                                   init=None, random_state=241, max_features=None, verbose=0)\n",
    "rfMod = RandomForestClassifier(n_estimators=10, criterion='gini', max_depth=None, min_samples_split=2,\n",
    "                               min_samples_leaf=1, min_weight_fraction_leaf=0.0, max_features='auto',\n",
    "                               max_leaf_nodes=None, bootstrap=True, oob_score=False, n_jobs=1, random_state=241, verbose=0)"
   ]
  },
  {
   "cell_type": "code",
   "execution_count": 430,
   "metadata": {},
   "outputs": [
    {
     "name": "stderr",
     "output_type": "stream",
     "text": [
      "[Parallel(n_jobs=1)]: Done   3 out of   3 | elapsed:    0.0s finished\n",
      "[Parallel(n_jobs=1)]: Done   3 out of   3 | elapsed:    0.0s finished\n"
     ]
    },
    {
     "name": "stdout",
     "output_type": "stream",
     "text": [
      "[LibLinear][LibLinear][LibLinear][LibLinear]"
     ]
    },
    {
     "name": "stderr",
     "output_type": "stream",
     "text": [
      "[Parallel(n_jobs=1)]: Done   3 out of   3 | elapsed:    1.2s finished\n",
      "[Parallel(n_jobs=1)]: Done   3 out of   3 | elapsed:    0.6s finished\n",
      "[Parallel(n_jobs=1)]: Done   3 out of   3 | elapsed:    0.0s finished\n"
     ]
    }
   ],
   "source": [
    "cvD3 = cvDictGen(functions=[knMod, glmMod, adaMod, gbMod, rfMod], scr='roc_auc')"
   ]
  },
  {
   "cell_type": "markdown",
   "metadata": {},
   "source": [
    "Теперь хорошие результаты начал демонстрировать еще и случайный лес"
   ]
  },
  {
   "cell_type": "code",
   "execution_count": 431,
   "metadata": {},
   "outputs": [
    {
     "data": {
      "text/plain": [
       "{'AdaBoostClassifier': ['Кросс-валидация на обучающей выборке(20т. строк): 0.758',\n",
       "  'Отклонение: 0.012',\n",
       "  'Результат модели на тестовой выборке(10т. строк): 0.781'],\n",
       " 'GradientBoostingClassifier': ['Кросс-валидация на обучающей выборке(20т. строк): 0.749',\n",
       "  'Отклонение: 0.019',\n",
       "  'Результат модели на тестовой выборке(10т. строк): 0.782'],\n",
       " 'KNeighborsClassifier': ['Кросс-валидация на обучающей выборке(20т. строк): 0.723',\n",
       "  'Отклонение: 0.012',\n",
       "  'Результат модели на тестовой выборке(10т. строк): 0.513'],\n",
       " 'LogisticRegression': ['Кросс-валидация на обучающей выборке(20т. строк): 0.732',\n",
       "  'Отклонение: 0.010',\n",
       "  'Результат модели на тестовой выборке(10т. строк): 0.745'],\n",
       " 'RandomForestClassifier': ['Кросс-валидация на обучающей выборке(20т. строк): 0.743',\n",
       "  'Отклонение: 0.020',\n",
       "  'Результат модели на тестовой выборке(10т. строк): 0.782']}"
      ]
     },
     "execution_count": 431,
     "metadata": {},
     "output_type": "execute_result"
    }
   ],
   "source": [
    "cvDictNormalize(cvD3)"
   ]
  },
  {
   "cell_type": "markdown",
   "metadata": {},
   "source": [
    "Проведем оптимизацию параметров"
   ]
  },
  {
   "cell_type": "code",
   "execution_count": 432,
   "metadata": {
    "scrolled": true
   },
   "outputs": [
    {
     "name": "stdout",
     "output_type": "stream",
     "text": [
      "Fitting 3 folds for each of 10 candidates, totalling 30 fits\n",
      "[CV] loss=deviance, max_depth=8, n_estimators=211 ....................\n",
      "[CV] ........... loss=deviance, max_depth=8, n_estimators=211 -   0.3s\n",
      "[CV] loss=deviance, max_depth=8, n_estimators=211 ....................\n"
     ]
    },
    {
     "name": "stderr",
     "output_type": "stream",
     "text": [
      "[Parallel(n_jobs=1)]: Done   1 out of   1 | elapsed:    0.3s remaining:    0.0s\n"
     ]
    },
    {
     "name": "stdout",
     "output_type": "stream",
     "text": [
      "[CV] ........... loss=deviance, max_depth=8, n_estimators=211 -   0.4s\n",
      "[CV] loss=deviance, max_depth=8, n_estimators=211 ....................\n",
      "[CV] ........... loss=deviance, max_depth=8, n_estimators=211 -   0.3s\n",
      "[CV] loss=deviance, max_depth=7, n_estimators=61 .....................\n",
      "[CV] ............ loss=deviance, max_depth=7, n_estimators=61 -   0.0s\n",
      "[CV] loss=deviance, max_depth=7, n_estimators=61 .....................\n",
      "[CV] ............ loss=deviance, max_depth=7, n_estimators=61 -   0.0s\n",
      "[CV] loss=deviance, max_depth=7, n_estimators=61 .....................\n",
      "[CV] ............ loss=deviance, max_depth=7, n_estimators=61 -   0.0s\n",
      "[CV] loss=exponential, max_depth=4, n_estimators=380 .................\n",
      "[CV] ........ loss=exponential, max_depth=4, n_estimators=380 -   0.4s\n",
      "[CV] loss=exponential, max_depth=4, n_estimators=380 .................\n",
      "[CV] ........ loss=exponential, max_depth=4, n_estimators=380 -   0.4s\n",
      "[CV] loss=exponential, max_depth=4, n_estimators=380 .................\n",
      "[CV] ........ loss=exponential, max_depth=4, n_estimators=380 -   0.4s\n",
      "[CV] loss=deviance, max_depth=9, n_estimators=398 ....................\n",
      "[CV] ........... loss=deviance, max_depth=9, n_estimators=398 -   0.8s\n",
      "[CV] loss=deviance, max_depth=9, n_estimators=398 ....................\n",
      "[CV] ........... loss=deviance, max_depth=9, n_estimators=398 -   0.8s\n",
      "[CV] loss=deviance, max_depth=9, n_estimators=398 ....................\n",
      "[CV] ........... loss=deviance, max_depth=9, n_estimators=398 -   0.8s\n",
      "[CV] loss=deviance, max_depth=2, n_estimators=28 .....................\n",
      "[CV] ............ loss=deviance, max_depth=2, n_estimators=28 -   0.0s\n",
      "[CV] loss=deviance, max_depth=2, n_estimators=28 .....................\n",
      "[CV] ............ loss=deviance, max_depth=2, n_estimators=28 -   0.0s\n",
      "[CV] loss=deviance, max_depth=2, n_estimators=28 .....................\n",
      "[CV] ............ loss=deviance, max_depth=2, n_estimators=28 -   0.0s\n",
      "[CV] loss=exponential, max_depth=4, n_estimators=424 .................\n",
      "[CV] ........ loss=exponential, max_depth=4, n_estimators=424 -   0.5s\n",
      "[CV] loss=exponential, max_depth=4, n_estimators=424 .................\n",
      "[CV] ........ loss=exponential, max_depth=4, n_estimators=424 -   0.5s\n",
      "[CV] loss=exponential, max_depth=4, n_estimators=424 .................\n",
      "[CV] ........ loss=exponential, max_depth=4, n_estimators=424 -   0.5s\n",
      "[CV] loss=deviance, max_depth=5, n_estimators=39 .....................\n",
      "[CV] ............ loss=deviance, max_depth=5, n_estimators=39 -   0.0s\n",
      "[CV] loss=deviance, max_depth=5, n_estimators=39 .....................\n",
      "[CV] ............ loss=deviance, max_depth=5, n_estimators=39 -   0.0s\n",
      "[CV] loss=deviance, max_depth=5, n_estimators=39 .....................\n",
      "[CV] ............ loss=deviance, max_depth=5, n_estimators=39 -   0.0s\n",
      "[CV] loss=deviance, max_depth=1, n_estimators=139 ....................\n",
      "[CV] ........... loss=deviance, max_depth=1, n_estimators=139 -   0.0s\n",
      "[CV] loss=deviance, max_depth=1, n_estimators=139 ....................\n",
      "[CV] ........... loss=deviance, max_depth=1, n_estimators=139 -   0.0s\n",
      "[CV] loss=deviance, max_depth=1, n_estimators=139 ....................\n",
      "[CV] ........... loss=deviance, max_depth=1, n_estimators=139 -   0.0s\n",
      "[CV] loss=deviance, max_depth=4, n_estimators=219 ....................\n",
      "[CV] ........... loss=deviance, max_depth=4, n_estimators=219 -   0.2s\n",
      "[CV] loss=deviance, max_depth=4, n_estimators=219 ....................\n",
      "[CV] ........... loss=deviance, max_depth=4, n_estimators=219 -   0.2s\n",
      "[CV] loss=deviance, max_depth=4, n_estimators=219 ....................\n",
      "[CV] ........... loss=deviance, max_depth=4, n_estimators=219 -   0.2s\n",
      "[CV] loss=exponential, max_depth=1, n_estimators=218 .................\n",
      "[CV] ........ loss=exponential, max_depth=1, n_estimators=218 -   0.1s\n",
      "[CV] loss=exponential, max_depth=1, n_estimators=218 .................\n",
      "[CV] ........ loss=exponential, max_depth=1, n_estimators=218 -   0.0s\n",
      "[CV] loss=exponential, max_depth=1, n_estimators=218 .................\n",
      "[CV] ........ loss=exponential, max_depth=1, n_estimators=218 -   0.0s\n",
      "[LibLinear][LibLinear][LibLinear]"
     ]
    },
    {
     "name": "stderr",
     "output_type": "stream",
     "text": [
      "[Parallel(n_jobs=1)]: Done  30 out of  30 | elapsed:    9.4s finished\n"
     ]
    },
    {
     "name": "stdout",
     "output_type": "stream",
     "text": [
      "[LibLinear][LibLinear][LibLinear][LibLinear][LibLinear][LibLinear][LibLinear][LibLinear][LibLinear][LibLinear][LibLinear][LibLinear][LibLinear][LibLinear][LibLinear][LibLinear][LibLinear][LibLinear][LibLinear]"
     ]
    },
    {
     "name": "stderr",
     "output_type": "stream",
     "text": [
      "[Parallel(n_jobs=1)]: Done   3 out of   3 | elapsed:    0.0s finished\n",
      "[Parallel(n_jobs=1)]: Done   3 out of   3 | elapsed:    0.0s finished\n",
      "[Parallel(n_jobs=1)]: Done   3 out of   3 | elapsed:    0.0s finished\n"
     ]
    },
    {
     "name": "stdout",
     "output_type": "stream",
     "text": [
      "[LibLinear][LibLinear][LibLinear][LibLinear]"
     ]
    }
   ],
   "source": [
    "gbHyperParams = {'loss' : ['deviance', 'exponential'],\n",
    "                 'n_estimators': randint(10, 500),\n",
    "                 'max_depth': randint(1,10)}\n",
    "gridSearchGB = RandomizedSearchCV(estimator=gbMod, param_distributions=gbHyperParams, n_iter=10,\n",
    "                                   scoring='roc_auc', fit_params=None, cv=None, verbose=2).fit(X_train.iloc[:,-3:], y_train)\n",
    "# print(gridSearchGB.best_params_, gridSearchGB.best_score_)\n",
    "bestGbModFitted = gridSearchGB.best_estimator_\n",
    "param_grid = {'C': [0.001, 0.01, 0.1, 1, 10, 100, 1000] }\n",
    "clf = GridSearchCV(glmMod, param_grid, scoring='roc_auc')\n",
    "clf.fit(X_train.iloc[:,-3:],y_train)\n",
    "bestGlModFitted=clf.best_estimator_\n",
    "param_grid = {\"max_depth\": [3, None],\n",
    "              \"max_features\": [1, 3],\n",
    "              \"min_samples_split\": [2, 3, 10],\n",
    "              \"min_samples_leaf\": [2, 3, 10],\n",
    "              \"bootstrap\": [True, False],\n",
    "              \"criterion\": [\"gini\", \"entropy\"]}\n",
    "grid_search = GridSearchCV(rfMod, param_grid=param_grid,scoring='roc_auc')\n",
    "grid_search.fit(X_train.iloc[:,-3:],y_train)\n",
    "bestrfModFitted=grid_search.best_estimator_\n",
    "cvDictHPO2 = cvDictGen(functions=[bestGbModFitted, bestGlModFitted,bestrfModFitted], scr='roc_auc')"
   ]
  },
  {
   "cell_type": "markdown",
   "metadata": {},
   "source": [
    "Прирост примерно на 0.02"
   ]
  },
  {
   "cell_type": "code",
   "execution_count": 433,
   "metadata": {},
   "outputs": [
    {
     "data": {
      "text/plain": [
       "{'GradientBoostingClassifier': ['Кросс-валидация на обучающей выборке(20т. строк): 0.760',\n",
       "  'Отклонение: 0.007',\n",
       "  'Результат модели на тестовой выборке(10т. строк): 0.769'],\n",
       " 'LogisticRegression': ['Кросс-валидация на обучающей выборке(20т. строк): 0.732',\n",
       "  'Отклонение: 0.010',\n",
       "  'Результат модели на тестовой выборке(10т. строк): 0.745'],\n",
       " 'RandomForestClassifier': ['Кросс-валидация на обучающей выборке(20т. строк): 0.759',\n",
       "  'Отклонение: 0.017',\n",
       "  'Результат модели на тестовой выборке(10т. строк): 0.779']}"
      ]
     },
     "execution_count": 433,
     "metadata": {},
     "output_type": "execute_result"
    }
   ],
   "source": [
    "cvDictNormalize(cvDictHPO2)"
   ]
  },
  {
   "cell_type": "markdown",
   "metadata": {},
   "source": [
    "Исходный roc_auc при алгоритме узорных структур c WoE на обучающей выборке:"
   ]
  },
  {
   "cell_type": "code",
   "execution_count": 434,
   "metadata": {
    "scrolled": true
   },
   "outputs": [
    {
     "data": {
      "text/plain": [
       "0.74967340565762741"
      ]
     },
     "execution_count": 434,
     "metadata": {},
     "output_type": "execute_result"
    }
   ],
   "source": [
    "roc_auc_score(y_score=output.loc[X_train.index.values].metr1,y_true=output.loc[X_train.index.values].SeriousDlqin2yrs)"
   ]
  },
  {
   "cell_type": "markdown",
   "metadata": {},
   "source": [
    "На тестовой выборке"
   ]
  },
  {
   "cell_type": "code",
   "execution_count": 435,
   "metadata": {},
   "outputs": [
    {
     "data": {
      "text/plain": [
       "0.76294349905461012"
      ]
     },
     "execution_count": 435,
     "metadata": {},
     "output_type": "execute_result"
    }
   ],
   "source": [
    "roc_auc_score(y_score=output.loc[X_test.index.values].metr1,y_true=output.loc[X_test.index.values].SeriousDlqin2yrs)"
   ]
  },
  {
   "cell_type": "markdown",
   "metadata": {},
   "source": [
    "базовые алгоритмы классификации с WoE"
   ]
  },
  {
   "cell_type": "code",
   "execution_count": 436,
   "metadata": {
    "collapsed": true
   },
   "outputs": [],
   "source": [
    "knMod = KNeighborsClassifier(n_neighbors=5, weights='uniform', algorithm='auto', leaf_size=30, p=2,\n",
    "                             metric='minkowski', metric_params=None)\n",
    "glmMod = LogisticRegression(penalty='l1', dual=False, tol=0.0001, C=1.0, fit_intercept=True,\n",
    "                            intercept_scaling=1, class_weight=None, random_state=None, solver='liblinear', max_iter=100,\n",
    "                            multi_class='ovr', verbose=2)\n",
    "adaMod = AdaBoostClassifier(base_estimator=None, n_estimators=200, learning_rate=1.0)\n",
    "gbMod = GradientBoostingClassifier(loss='deviance', learning_rate=0.1, n_estimators=200, subsample=1.0,\n",
    "                                   min_samples_split=2, min_samples_leaf=1, min_weight_fraction_leaf=0.0, max_depth=3,\n",
    "                                   init=None, random_state=None, max_features=None, verbose=0)\n",
    "rfMod = RandomForestClassifier(n_estimators=10, criterion='gini', max_depth=None, min_samples_split=2,\n",
    "                               min_samples_leaf=1, min_weight_fraction_leaf=0.0, max_features='auto',\n",
    "                               max_leaf_nodes=None, bootstrap=True, oob_score=False, n_jobs=1, random_state=None, verbose=0)"
   ]
  },
  {
   "cell_type": "code",
   "execution_count": 437,
   "metadata": {},
   "outputs": [
    {
     "name": "stderr",
     "output_type": "stream",
     "text": [
      "[Parallel(n_jobs=1)]: Done   3 out of   3 | elapsed:    0.2s finished\n"
     ]
    },
    {
     "name": "stdout",
     "output_type": "stream",
     "text": [
      "[LibLinear][LibLinear][LibLinear][LibLinear]"
     ]
    },
    {
     "name": "stderr",
     "output_type": "stream",
     "text": [
      "[Parallel(n_jobs=1)]: Done   3 out of   3 | elapsed:    0.0s finished\n",
      "[Parallel(n_jobs=1)]: Done   3 out of   3 | elapsed:    1.6s finished\n",
      "[Parallel(n_jobs=1)]: Done   3 out of   3 | elapsed:    1.3s finished\n",
      "[Parallel(n_jobs=1)]: Done   3 out of   3 | elapsed:    0.1s finished\n"
     ]
    }
   ],
   "source": [
    "cvD4 = cvDictGen_base(functions=[knMod, glmMod, adaMod, gbMod, rfMod], scr='roc_auc')"
   ]
  },
  {
   "cell_type": "code",
   "execution_count": 438,
   "metadata": {},
   "outputs": [
    {
     "data": {
      "text/plain": [
       "{'AdaBoostClassifier': ['Кросс-валидация на обучающей выборке(20т. строк): 0.835',\n",
       "  'Отклонение: 0.005',\n",
       "  'Результат модели на тестовой выборке(10т. строк): 0.862'],\n",
       " 'GradientBoostingClassifier': ['Кросс-валидация на обучающей выборке(20т. строк): 0.823',\n",
       "  'Отклонение: 0.008',\n",
       "  'Результат модели на тестовой выборке(10т. строк): 0.865'],\n",
       " 'KNeighborsClassifier': ['Кросс-валидация на обучающей выборке(20т. строк): 0.710',\n",
       "  'Отклонение: 0.008',\n",
       "  'Результат модели на тестовой выборке(10т. строк): 0.757'],\n",
       " 'LogisticRegression': ['Кросс-валидация на обучающей выборке(20т. строк): 0.841',\n",
       "  'Отклонение: 0.007',\n",
       "  'Результат модели на тестовой выборке(10т. строк): 0.863'],\n",
       " 'RandomForestClassifier': ['Кросс-валидация на обучающей выборке(20т. строк): 0.734',\n",
       "  'Отклонение: 0.011',\n",
       "  'Результат модели на тестовой выборке(10т. строк): 0.767']}"
      ]
     },
     "execution_count": 438,
     "metadata": {},
     "output_type": "execute_result"
    }
   ],
   "source": [
    "cvDictNormalize(cvD4)"
   ]
  },
  {
   "cell_type": "code",
   "execution_count": 439,
   "metadata": {
    "collapsed": true
   },
   "outputs": [],
   "source": [
    "res_overall2=pd.DataFrame(columns=['pat_struct','classic_kneigh','classic_logr','classic_ada','classic_gb','classic_rf','pat_kneigh','pat_logr','pat_ada','pat_gb','pat_rf'], index=['with_WoE','without_WoE'])"
   ]
  },
  {
   "cell_type": "code",
   "execution_count": 440,
   "metadata": {
    "collapsed": true
   },
   "outputs": [],
   "source": [
    "res_overall2.loc['with_WoE','pat_struct']=roc_auc_score(y_score=output2.loc[X_test.index.values].metr1,y_true=output2.loc[X_test.index.values].SeriousDlqin2yrs)\n",
    "res_overall2.loc['without_WoE','pat_struct']=roc_auc_score(y_score=output.loc[X_test.index.values].metr1,y_true=output.loc[X_test.index.values].SeriousDlqin2yrs)\n",
    "i=1\n",
    "for key in cvD2.keys():\n",
    "#     print (key)\n",
    "    res_overall2.iloc[0,i]=cvD4[key][2]\n",
    "    res_overall2.iloc[1,i]=cvD2[key][2]\n",
    "    res_overall2.iloc[0,5+i]=cvD3[key][2]\n",
    "    res_overall2.iloc[1,5+i]=cvD1[key][2]\n",
    "    i+=1"
   ]
  },
  {
   "cell_type": "code",
   "execution_count": 441,
   "metadata": {},
   "outputs": [
    {
     "data": {
      "text/html": [
       "<div>\n",
       "<table border=\"1\" class=\"dataframe\">\n",
       "  <thead>\n",
       "    <tr style=\"text-align: right;\">\n",
       "      <th></th>\n",
       "      <th>pat_struct</th>\n",
       "      <th>classic_kneigh</th>\n",
       "      <th>classic_logr</th>\n",
       "      <th>classic_ada</th>\n",
       "      <th>classic_gb</th>\n",
       "      <th>classic_rf</th>\n",
       "      <th>pat_kneigh</th>\n",
       "      <th>pat_logr</th>\n",
       "      <th>pat_ada</th>\n",
       "      <th>pat_gb</th>\n",
       "      <th>pat_rf</th>\n",
       "    </tr>\n",
       "  </thead>\n",
       "  <tbody>\n",
       "    <tr>\n",
       "      <th>with_WoE</th>\n",
       "      <td>0.78392</td>\n",
       "      <td>0.756867</td>\n",
       "      <td>0.863111</td>\n",
       "      <td>0.861937</td>\n",
       "      <td>0.865125</td>\n",
       "      <td>0.772045</td>\n",
       "      <td>0.512928</td>\n",
       "      <td>0.793117</td>\n",
       "      <td>0.812721</td>\n",
       "      <td>0.80576</td>\n",
       "      <td>0.780685</td>\n",
       "    </tr>\n",
       "    <tr>\n",
       "      <th>without_WoE</th>\n",
       "      <td>0.803396</td>\n",
       "      <td>0.534996</td>\n",
       "      <td>0.674328</td>\n",
       "      <td>0.819333</td>\n",
       "      <td>0.85083</td>\n",
       "      <td>0.778043</td>\n",
       "      <td>0.694197</td>\n",
       "      <td>0.814352</td>\n",
       "      <td>0.79913</td>\n",
       "      <td>0.796813</td>\n",
       "      <td>0.70093</td>\n",
       "    </tr>\n",
       "  </tbody>\n",
       "</table>\n",
       "</div>"
      ],
      "text/plain": [
       "            pat_struct classic_kneigh classic_logr classic_ada classic_gb  \\\n",
       "with_WoE       0.78392       0.756867     0.863111    0.861937   0.865125   \n",
       "without_WoE   0.803396       0.534996     0.674328    0.819333    0.85083   \n",
       "\n",
       "            classic_rf pat_kneigh  pat_logr   pat_ada    pat_gb    pat_rf  \n",
       "with_WoE      0.772045   0.512928  0.793117  0.812721   0.80576  0.780685  \n",
       "without_WoE   0.778043   0.694197  0.814352   0.79913  0.796813   0.70093  "
      ]
     },
     "execution_count": 441,
     "metadata": {},
     "output_type": "execute_result"
    }
   ],
   "source": [
    "res_overall"
   ]
  },
  {
   "cell_type": "code",
   "execution_count": 442,
   "metadata": {},
   "outputs": [
    {
     "data": {
      "text/html": [
       "<div>\n",
       "<table border=\"1\" class=\"dataframe\">\n",
       "  <thead>\n",
       "    <tr style=\"text-align: right;\">\n",
       "      <th></th>\n",
       "      <th>pat_struct</th>\n",
       "      <th>classic_kneigh</th>\n",
       "      <th>classic_logr</th>\n",
       "      <th>classic_ada</th>\n",
       "      <th>classic_gb</th>\n",
       "      <th>classic_rf</th>\n",
       "      <th>pat_kneigh</th>\n",
       "      <th>pat_logr</th>\n",
       "      <th>pat_ada</th>\n",
       "      <th>pat_gb</th>\n",
       "      <th>pat_rf</th>\n",
       "    </tr>\n",
       "  </thead>\n",
       "  <tbody>\n",
       "    <tr>\n",
       "      <th>with_WoE</th>\n",
       "      <td>0.748807</td>\n",
       "      <td>0.756867</td>\n",
       "      <td>0.863112</td>\n",
       "      <td>0.861937</td>\n",
       "      <td>0.865125</td>\n",
       "      <td>0.766656</td>\n",
       "      <td>0.512653</td>\n",
       "      <td>0.745078</td>\n",
       "      <td>0.780653</td>\n",
       "      <td>0.782031</td>\n",
       "      <td>0.782023</td>\n",
       "    </tr>\n",
       "    <tr>\n",
       "      <th>without_WoE</th>\n",
       "      <td>0.762943</td>\n",
       "      <td>0.534996</td>\n",
       "      <td>0.671073</td>\n",
       "      <td>0.819333</td>\n",
       "      <td>0.851156</td>\n",
       "      <td>0.793599</td>\n",
       "      <td>0.668579</td>\n",
       "      <td>0.755481</td>\n",
       "      <td>0.772853</td>\n",
       "      <td>0.780392</td>\n",
       "      <td>0.684365</td>\n",
       "    </tr>\n",
       "  </tbody>\n",
       "</table>\n",
       "</div>"
      ],
      "text/plain": [
       "            pat_struct classic_kneigh classic_logr classic_ada classic_gb  \\\n",
       "with_WoE      0.748807       0.756867     0.863112    0.861937   0.865125   \n",
       "without_WoE   0.762943       0.534996     0.671073    0.819333   0.851156   \n",
       "\n",
       "            classic_rf pat_kneigh  pat_logr   pat_ada    pat_gb    pat_rf  \n",
       "with_WoE      0.766656   0.512653  0.745078  0.780653  0.782031  0.782023  \n",
       "without_WoE   0.793599   0.668579  0.755481  0.772853  0.780392  0.684365  "
      ]
     },
     "execution_count": 442,
     "metadata": {},
     "output_type": "execute_result"
    }
   ],
   "source": [
    "writer = pd.ExcelWriter('resoverall_d1_0.1_and_rand_vals_9.xlsx')\n",
    "res_overall2.to_excel(writer,'Sheet1')\n",
    "writer.save()\n",
    "res_overall2"
   ]
  }
 ],
 "metadata": {
  "anaconda-cloud": {},
  "kernelspec": {
   "display_name": "Python 3",
   "language": "python",
   "name": "python3"
  },
  "language_info": {
   "codemirror_mode": {
    "name": "ipython",
    "version": 3
   },
   "file_extension": ".py",
   "mimetype": "text/x-python",
   "name": "python",
   "nbconvert_exporter": "python",
   "pygments_lexer": "ipython3",
   "version": "3.6.0"
  }
 },
 "nbformat": 4,
 "nbformat_minor": 1
}
